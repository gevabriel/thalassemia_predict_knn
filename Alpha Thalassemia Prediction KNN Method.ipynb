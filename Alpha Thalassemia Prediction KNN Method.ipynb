{
  "nbformat": 4,
  "nbformat_minor": 0,
  "metadata": {
    "colab": {
      "provenance": []
    },
    "kernelspec": {
      "name": "python3",
      "display_name": "Python 3"
    }
  },
  "cells": [
    {
      "cell_type": "markdown",
      "metadata": {
        "id": "4p35D_MajUhy"
      },
      "source": [
        "# Proyek Pengantar Pembelajaran Mesin\n",
        "## Prediksi Penyakit Liver (Hati) Menggunakan Metode KNN\n",
        "\n",
        "### PPM D\n",
        "---\n",
        "Anggota :\n",
        "\n",
        "1. Muhammad Basil Musyaffa Amin (215150201111023)\n",
        "2. Muhammad Jilan Naufal (215150207111018)\n",
        "3. Muhammad Fajrul Alwan (215150207111023)\n",
        "4. Gibran Hakim (215150200111020)"
      ]
    },
    {
      "cell_type": "markdown",
      "source": [
        "# Preprocessing Data"
      ],
      "metadata": {
        "id": "N7gxB_DfmaZG"
      }
    },
    {
      "cell_type": "markdown",
      "metadata": {
        "id": "Ay3Q_EtXsn77"
      },
      "source": [
        "### 1) Import Data"
      ]
    },
    {
      "cell_type": "markdown",
      "metadata": {
        "id": "l_iBG4pVjIZb"
      },
      "source": [
        "**wget** digunakan untuk mengunduh dataset dan menyimpannya dalam Google Colab. Kode pada cell di bawah ini digunakan untuk mengunduh dataset."
      ]
    },
    {
      "cell_type": "code",
      "metadata": {
        "id": "2zlUIUTidO13",
        "colab": {
          "base_uri": "https://localhost:8080/"
        },
        "outputId": "62140044-7bd3-4504-fd72-0ede8e603059"
      },
      "source": [
        "! wget https://raw.githubusercontent.com/gevabriel/dataset/main/heart_disease.csv"
      ],
      "execution_count": null,
      "outputs": [
        {
          "output_type": "stream",
          "name": "stdout",
          "text": [
            "--2023-05-24 10:22:02--  https://raw.githubusercontent.com/gevabriel/dataset/main/heart_disease.csv\n",
            "Resolving raw.githubusercontent.com (raw.githubusercontent.com)... 185.199.108.133, 185.199.109.133, 185.199.110.133, ...\n",
            "Connecting to raw.githubusercontent.com (raw.githubusercontent.com)|185.199.108.133|:443... connected.\n",
            "HTTP request sent, awaiting response... 200 OK\n",
            "Length: 10277 (10K) [text/plain]\n",
            "Saving to: ‘heart_disease.csv’\n",
            "\n",
            "heart_disease.csv   100%[===================>]  10.04K  --.-KB/s    in 0s      \n",
            "\n",
            "2023-05-24 10:22:03 (63.3 MB/s) - ‘heart_disease.csv’ saved [10277/10277]\n",
            "\n"
          ]
        }
      ]
    },
    {
      "cell_type": "markdown",
      "metadata": {
        "id": "qS98ITZYj_EQ"
      },
      "source": [
        "Setelah dataset berhasil diunduh, langkah berikutnya adalah membaca dataset dengan memanfaatkan fungsi [readcsv](https://pandas.pydata.org/pandas-docs/stable/reference/api/pandas.read_csv.html) dari library pandas."
      ]
    },
    {
      "cell_type": "code",
      "metadata": {
        "id": "5TtrzOrCe0do"
      },
      "source": [
        "import pandas as pd\n",
        "import numpy as np\n",
        "data = pd.read_csv('heart_disease.csv')"
      ],
      "execution_count": null,
      "outputs": []
    },
    {
      "cell_type": "markdown",
      "metadata": {
        "id": "Fz2E1jyaseWv"
      },
      "source": [
        "Tampilkan beberapa baris dari dataset untuk mendapatkan informasi singkat mengenai isi data. Gunakan fungsi **head()** untuk menampilkan 5 data pertama."
      ]
    },
    {
      "cell_type": "code",
      "metadata": {
        "id": "3zIEJth2fB-d",
        "colab": {
          "base_uri": "https://localhost:8080/",
          "height": 206
        },
        "outputId": "973cd694-ab8c-4d87-e71d-00d14b1f22b0"
      },
      "source": [
        "data.head()"
      ],
      "execution_count": null,
      "outputs": [
        {
          "output_type": "execute_result",
          "data": {
            "text/plain": [
              "   Age  Chest_pain_type   BP  Cholesterol  EKG_results  Max_HR  ST_depression  \\\n",
              "0   70                4  130          322            2     109            2.4   \n",
              "1   67                3  115          564            2     160            1.6   \n",
              "2   57                2  124          261            0     141            0.3   \n",
              "3   64                4  128          263            0     105            0.2   \n",
              "4   74                2  120          269            2     121            0.2   \n",
              "\n",
              "   Slope_of_ST  Number_of_vessels_fluro  Thallium Heart_Disease  \n",
              "0            2                        3         3      Presence  \n",
              "1            2                        0         7       Absence  \n",
              "2            1                        0         7      Presence  \n",
              "3            2                        1         7       Absence  \n",
              "4            1                        1         3       Absence  "
            ],
            "text/html": [
              "\n",
              "  <div id=\"df-297f9f4f-51c2-4145-97e4-096c00d5d9ae\">\n",
              "    <div class=\"colab-df-container\">\n",
              "      <div>\n",
              "<style scoped>\n",
              "    .dataframe tbody tr th:only-of-type {\n",
              "        vertical-align: middle;\n",
              "    }\n",
              "\n",
              "    .dataframe tbody tr th {\n",
              "        vertical-align: top;\n",
              "    }\n",
              "\n",
              "    .dataframe thead th {\n",
              "        text-align: right;\n",
              "    }\n",
              "</style>\n",
              "<table border=\"1\" class=\"dataframe\">\n",
              "  <thead>\n",
              "    <tr style=\"text-align: right;\">\n",
              "      <th></th>\n",
              "      <th>Age</th>\n",
              "      <th>Chest_pain_type</th>\n",
              "      <th>BP</th>\n",
              "      <th>Cholesterol</th>\n",
              "      <th>EKG_results</th>\n",
              "      <th>Max_HR</th>\n",
              "      <th>ST_depression</th>\n",
              "      <th>Slope_of_ST</th>\n",
              "      <th>Number_of_vessels_fluro</th>\n",
              "      <th>Thallium</th>\n",
              "      <th>Heart_Disease</th>\n",
              "    </tr>\n",
              "  </thead>\n",
              "  <tbody>\n",
              "    <tr>\n",
              "      <th>0</th>\n",
              "      <td>70</td>\n",
              "      <td>4</td>\n",
              "      <td>130</td>\n",
              "      <td>322</td>\n",
              "      <td>2</td>\n",
              "      <td>109</td>\n",
              "      <td>2.4</td>\n",
              "      <td>2</td>\n",
              "      <td>3</td>\n",
              "      <td>3</td>\n",
              "      <td>Presence</td>\n",
              "    </tr>\n",
              "    <tr>\n",
              "      <th>1</th>\n",
              "      <td>67</td>\n",
              "      <td>3</td>\n",
              "      <td>115</td>\n",
              "      <td>564</td>\n",
              "      <td>2</td>\n",
              "      <td>160</td>\n",
              "      <td>1.6</td>\n",
              "      <td>2</td>\n",
              "      <td>0</td>\n",
              "      <td>7</td>\n",
              "      <td>Absence</td>\n",
              "    </tr>\n",
              "    <tr>\n",
              "      <th>2</th>\n",
              "      <td>57</td>\n",
              "      <td>2</td>\n",
              "      <td>124</td>\n",
              "      <td>261</td>\n",
              "      <td>0</td>\n",
              "      <td>141</td>\n",
              "      <td>0.3</td>\n",
              "      <td>1</td>\n",
              "      <td>0</td>\n",
              "      <td>7</td>\n",
              "      <td>Presence</td>\n",
              "    </tr>\n",
              "    <tr>\n",
              "      <th>3</th>\n",
              "      <td>64</td>\n",
              "      <td>4</td>\n",
              "      <td>128</td>\n",
              "      <td>263</td>\n",
              "      <td>0</td>\n",
              "      <td>105</td>\n",
              "      <td>0.2</td>\n",
              "      <td>2</td>\n",
              "      <td>1</td>\n",
              "      <td>7</td>\n",
              "      <td>Absence</td>\n",
              "    </tr>\n",
              "    <tr>\n",
              "      <th>4</th>\n",
              "      <td>74</td>\n",
              "      <td>2</td>\n",
              "      <td>120</td>\n",
              "      <td>269</td>\n",
              "      <td>2</td>\n",
              "      <td>121</td>\n",
              "      <td>0.2</td>\n",
              "      <td>1</td>\n",
              "      <td>1</td>\n",
              "      <td>3</td>\n",
              "      <td>Absence</td>\n",
              "    </tr>\n",
              "  </tbody>\n",
              "</table>\n",
              "</div>\n",
              "      <button class=\"colab-df-convert\" onclick=\"convertToInteractive('df-297f9f4f-51c2-4145-97e4-096c00d5d9ae')\"\n",
              "              title=\"Convert this dataframe to an interactive table.\"\n",
              "              style=\"display:none;\">\n",
              "        \n",
              "  <svg xmlns=\"http://www.w3.org/2000/svg\" height=\"24px\"viewBox=\"0 0 24 24\"\n",
              "       width=\"24px\">\n",
              "    <path d=\"M0 0h24v24H0V0z\" fill=\"none\"/>\n",
              "    <path d=\"M18.56 5.44l.94 2.06.94-2.06 2.06-.94-2.06-.94-.94-2.06-.94 2.06-2.06.94zm-11 1L8.5 8.5l.94-2.06 2.06-.94-2.06-.94L8.5 2.5l-.94 2.06-2.06.94zm10 10l.94 2.06.94-2.06 2.06-.94-2.06-.94-.94-2.06-.94 2.06-2.06.94z\"/><path d=\"M17.41 7.96l-1.37-1.37c-.4-.4-.92-.59-1.43-.59-.52 0-1.04.2-1.43.59L10.3 9.45l-7.72 7.72c-.78.78-.78 2.05 0 2.83L4 21.41c.39.39.9.59 1.41.59.51 0 1.02-.2 1.41-.59l7.78-7.78 2.81-2.81c.8-.78.8-2.07 0-2.86zM5.41 20L4 18.59l7.72-7.72 1.47 1.35L5.41 20z\"/>\n",
              "  </svg>\n",
              "      </button>\n",
              "      \n",
              "  <style>\n",
              "    .colab-df-container {\n",
              "      display:flex;\n",
              "      flex-wrap:wrap;\n",
              "      gap: 12px;\n",
              "    }\n",
              "\n",
              "    .colab-df-convert {\n",
              "      background-color: #E8F0FE;\n",
              "      border: none;\n",
              "      border-radius: 50%;\n",
              "      cursor: pointer;\n",
              "      display: none;\n",
              "      fill: #1967D2;\n",
              "      height: 32px;\n",
              "      padding: 0 0 0 0;\n",
              "      width: 32px;\n",
              "    }\n",
              "\n",
              "    .colab-df-convert:hover {\n",
              "      background-color: #E2EBFA;\n",
              "      box-shadow: 0px 1px 2px rgba(60, 64, 67, 0.3), 0px 1px 3px 1px rgba(60, 64, 67, 0.15);\n",
              "      fill: #174EA6;\n",
              "    }\n",
              "\n",
              "    [theme=dark] .colab-df-convert {\n",
              "      background-color: #3B4455;\n",
              "      fill: #D2E3FC;\n",
              "    }\n",
              "\n",
              "    [theme=dark] .colab-df-convert:hover {\n",
              "      background-color: #434B5C;\n",
              "      box-shadow: 0px 1px 3px 1px rgba(0, 0, 0, 0.15);\n",
              "      filter: drop-shadow(0px 1px 2px rgba(0, 0, 0, 0.3));\n",
              "      fill: #FFFFFF;\n",
              "    }\n",
              "  </style>\n",
              "\n",
              "      <script>\n",
              "        const buttonEl =\n",
              "          document.querySelector('#df-297f9f4f-51c2-4145-97e4-096c00d5d9ae button.colab-df-convert');\n",
              "        buttonEl.style.display =\n",
              "          google.colab.kernel.accessAllowed ? 'block' : 'none';\n",
              "\n",
              "        async function convertToInteractive(key) {\n",
              "          const element = document.querySelector('#df-297f9f4f-51c2-4145-97e4-096c00d5d9ae');\n",
              "          const dataTable =\n",
              "            await google.colab.kernel.invokeFunction('convertToInteractive',\n",
              "                                                     [key], {});\n",
              "          if (!dataTable) return;\n",
              "\n",
              "          const docLinkHtml = 'Like what you see? Visit the ' +\n",
              "            '<a target=\"_blank\" href=https://colab.research.google.com/notebooks/data_table.ipynb>data table notebook</a>'\n",
              "            + ' to learn more about interactive tables.';\n",
              "          element.innerHTML = '';\n",
              "          dataTable['output_type'] = 'display_data';\n",
              "          await google.colab.output.renderOutput(dataTable, element);\n",
              "          const docLink = document.createElement('div');\n",
              "          docLink.innerHTML = docLinkHtml;\n",
              "          element.appendChild(docLink);\n",
              "        }\n",
              "      </script>\n",
              "    </div>\n",
              "  </div>\n",
              "  "
            ]
          },
          "metadata": {},
          "execution_count": 3
        }
      ]
    },
    {
      "cell_type": "markdown",
      "metadata": {
        "id": "tPbKFyGVs3Xs"
      },
      "source": [
        "Berdasarkan informasi dari fungsi **head()**, data alpha thalasemia yang\n",
        "digunakan mempunyai 10 fitur."
      ]
    },
    {
      "cell_type": "markdown",
      "metadata": {
        "id": "GhKSY9e0t4gf"
      },
      "source": [
        "### 2) Missing value dan imputasi data\n",
        "\n",
        "Sebelum kita melanjutkan langkah preprocessing, kita harus mengecek apakah dataset yang kita gunakan mengandung nilai dengan 0.0 atau tidak. Jika ada, kita harus mengganti nilai 0.0 tersebut dengan NaN (Not a Number). Langkah-langkah pengecakan missing value tersebut adalah sebagai berikut:\n",
        "\n",
        "\n",
        "1.   Membuat filter untuk mencari data dengan N = 0, P = 0, K = 0, temperature = 0, humidity = 0, ph = 0, dan rainfall = 0\n",
        "2.   Mencari data yang memenuhi kondisi1 **atau** kondisi2 **atau** kondisi3 **atau** kondisi4 **atau** kondisi5 **atau** kondisi6 **atau** kondisi7 menggunakan property [loc](https://pandas.pydata.org/pandas-docs/stable/reference/api/pandas.DataFrame.loc.html) pada dataframe\n",
        "\n"
      ]
    },
    {
      "cell_type": "code",
      "metadata": {
        "id": "rP3gGlgrlb-I",
        "colab": {
          "base_uri": "https://localhost:8080/",
          "height": 424
        },
        "outputId": "671e1770-4639-4793-e06a-3d37d84ed8d1"
      },
      "source": [
        "kondisi1 = data['Age']==0.0\n",
        "kondisi2 = data['Chest_pain_type']==0.0\n",
        "kondisi3 = data['BP']==0.0\n",
        "kondisi4 = data['Cholesterol']==0.0\n",
        "kondisi5 = data['EKG_results']==0.0\n",
        "kondisi6 = data['Max_HR']==0.0\n",
        "kondisi7 = data['ST_depression']==0.0\n",
        "kondisi8 = data['Slope_of_ST']==0.0\n",
        "kondisi9 = data['Number_of_vessels_fluro']==0.0\n",
        "kondisi10 = data['Thallium']==0.0\n",
        "data.loc[kondisi1 | kondisi2 | kondisi3 | kondisi4 | kondisi5 | kondisi6 | kondisi7 | kondisi8 | kondisi9 | kondisi10]"
      ],
      "execution_count": null,
      "outputs": [
        {
          "output_type": "execute_result",
          "data": {
            "text/plain": [
              "     Age  Chest_pain_type   BP  Cholesterol  EKG_results  Max_HR  \\\n",
              "1     67                3  115          564            2     160   \n",
              "2     57                2  124          261            0     141   \n",
              "3     64                4  128          263            0     105   \n",
              "5     65                4  120          177            0     140   \n",
              "10    59                4  135          234            0     161   \n",
              "..   ...              ...  ...          ...          ...     ...   \n",
              "264   48                2  110          229            0     168   \n",
              "265   52                3  172          199            0     162   \n",
              "266   44                2  120          263            0     173   \n",
              "267   56                2  140          294            2     153   \n",
              "268   57                4  140          192            0     148   \n",
              "\n",
              "     ST_depression  Slope_of_ST  Number_of_vessels_fluro  Thallium  \\\n",
              "1              1.6            2                        0         7   \n",
              "2              0.3            1                        0         7   \n",
              "3              0.2            2                        1         7   \n",
              "5              0.4            1                        0         7   \n",
              "10             0.5            2                        0         7   \n",
              "..             ...          ...                      ...       ...   \n",
              "264            1.0            3                        0         7   \n",
              "265            0.5            1                        0         7   \n",
              "266            0.0            1                        0         7   \n",
              "267            1.3            2                        0         3   \n",
              "268            0.4            2                        0         6   \n",
              "\n",
              "    Heart_Disease  \n",
              "1         Absence  \n",
              "2        Presence  \n",
              "3         Absence  \n",
              "5         Absence  \n",
              "10        Absence  \n",
              "..            ...  \n",
              "264      Presence  \n",
              "265       Absence  \n",
              "266       Absence  \n",
              "267       Absence  \n",
              "268       Absence  \n",
              "\n",
              "[220 rows x 11 columns]"
            ],
            "text/html": [
              "\n",
              "  <div id=\"df-9dbe4160-f476-4707-a7b6-58c38f60dc8d\">\n",
              "    <div class=\"colab-df-container\">\n",
              "      <div>\n",
              "<style scoped>\n",
              "    .dataframe tbody tr th:only-of-type {\n",
              "        vertical-align: middle;\n",
              "    }\n",
              "\n",
              "    .dataframe tbody tr th {\n",
              "        vertical-align: top;\n",
              "    }\n",
              "\n",
              "    .dataframe thead th {\n",
              "        text-align: right;\n",
              "    }\n",
              "</style>\n",
              "<table border=\"1\" class=\"dataframe\">\n",
              "  <thead>\n",
              "    <tr style=\"text-align: right;\">\n",
              "      <th></th>\n",
              "      <th>Age</th>\n",
              "      <th>Chest_pain_type</th>\n",
              "      <th>BP</th>\n",
              "      <th>Cholesterol</th>\n",
              "      <th>EKG_results</th>\n",
              "      <th>Max_HR</th>\n",
              "      <th>ST_depression</th>\n",
              "      <th>Slope_of_ST</th>\n",
              "      <th>Number_of_vessels_fluro</th>\n",
              "      <th>Thallium</th>\n",
              "      <th>Heart_Disease</th>\n",
              "    </tr>\n",
              "  </thead>\n",
              "  <tbody>\n",
              "    <tr>\n",
              "      <th>1</th>\n",
              "      <td>67</td>\n",
              "      <td>3</td>\n",
              "      <td>115</td>\n",
              "      <td>564</td>\n",
              "      <td>2</td>\n",
              "      <td>160</td>\n",
              "      <td>1.6</td>\n",
              "      <td>2</td>\n",
              "      <td>0</td>\n",
              "      <td>7</td>\n",
              "      <td>Absence</td>\n",
              "    </tr>\n",
              "    <tr>\n",
              "      <th>2</th>\n",
              "      <td>57</td>\n",
              "      <td>2</td>\n",
              "      <td>124</td>\n",
              "      <td>261</td>\n",
              "      <td>0</td>\n",
              "      <td>141</td>\n",
              "      <td>0.3</td>\n",
              "      <td>1</td>\n",
              "      <td>0</td>\n",
              "      <td>7</td>\n",
              "      <td>Presence</td>\n",
              "    </tr>\n",
              "    <tr>\n",
              "      <th>3</th>\n",
              "      <td>64</td>\n",
              "      <td>4</td>\n",
              "      <td>128</td>\n",
              "      <td>263</td>\n",
              "      <td>0</td>\n",
              "      <td>105</td>\n",
              "      <td>0.2</td>\n",
              "      <td>2</td>\n",
              "      <td>1</td>\n",
              "      <td>7</td>\n",
              "      <td>Absence</td>\n",
              "    </tr>\n",
              "    <tr>\n",
              "      <th>5</th>\n",
              "      <td>65</td>\n",
              "      <td>4</td>\n",
              "      <td>120</td>\n",
              "      <td>177</td>\n",
              "      <td>0</td>\n",
              "      <td>140</td>\n",
              "      <td>0.4</td>\n",
              "      <td>1</td>\n",
              "      <td>0</td>\n",
              "      <td>7</td>\n",
              "      <td>Absence</td>\n",
              "    </tr>\n",
              "    <tr>\n",
              "      <th>10</th>\n",
              "      <td>59</td>\n",
              "      <td>4</td>\n",
              "      <td>135</td>\n",
              "      <td>234</td>\n",
              "      <td>0</td>\n",
              "      <td>161</td>\n",
              "      <td>0.5</td>\n",
              "      <td>2</td>\n",
              "      <td>0</td>\n",
              "      <td>7</td>\n",
              "      <td>Absence</td>\n",
              "    </tr>\n",
              "    <tr>\n",
              "      <th>...</th>\n",
              "      <td>...</td>\n",
              "      <td>...</td>\n",
              "      <td>...</td>\n",
              "      <td>...</td>\n",
              "      <td>...</td>\n",
              "      <td>...</td>\n",
              "      <td>...</td>\n",
              "      <td>...</td>\n",
              "      <td>...</td>\n",
              "      <td>...</td>\n",
              "      <td>...</td>\n",
              "    </tr>\n",
              "    <tr>\n",
              "      <th>264</th>\n",
              "      <td>48</td>\n",
              "      <td>2</td>\n",
              "      <td>110</td>\n",
              "      <td>229</td>\n",
              "      <td>0</td>\n",
              "      <td>168</td>\n",
              "      <td>1.0</td>\n",
              "      <td>3</td>\n",
              "      <td>0</td>\n",
              "      <td>7</td>\n",
              "      <td>Presence</td>\n",
              "    </tr>\n",
              "    <tr>\n",
              "      <th>265</th>\n",
              "      <td>52</td>\n",
              "      <td>3</td>\n",
              "      <td>172</td>\n",
              "      <td>199</td>\n",
              "      <td>0</td>\n",
              "      <td>162</td>\n",
              "      <td>0.5</td>\n",
              "      <td>1</td>\n",
              "      <td>0</td>\n",
              "      <td>7</td>\n",
              "      <td>Absence</td>\n",
              "    </tr>\n",
              "    <tr>\n",
              "      <th>266</th>\n",
              "      <td>44</td>\n",
              "      <td>2</td>\n",
              "      <td>120</td>\n",
              "      <td>263</td>\n",
              "      <td>0</td>\n",
              "      <td>173</td>\n",
              "      <td>0.0</td>\n",
              "      <td>1</td>\n",
              "      <td>0</td>\n",
              "      <td>7</td>\n",
              "      <td>Absence</td>\n",
              "    </tr>\n",
              "    <tr>\n",
              "      <th>267</th>\n",
              "      <td>56</td>\n",
              "      <td>2</td>\n",
              "      <td>140</td>\n",
              "      <td>294</td>\n",
              "      <td>2</td>\n",
              "      <td>153</td>\n",
              "      <td>1.3</td>\n",
              "      <td>2</td>\n",
              "      <td>0</td>\n",
              "      <td>3</td>\n",
              "      <td>Absence</td>\n",
              "    </tr>\n",
              "    <tr>\n",
              "      <th>268</th>\n",
              "      <td>57</td>\n",
              "      <td>4</td>\n",
              "      <td>140</td>\n",
              "      <td>192</td>\n",
              "      <td>0</td>\n",
              "      <td>148</td>\n",
              "      <td>0.4</td>\n",
              "      <td>2</td>\n",
              "      <td>0</td>\n",
              "      <td>6</td>\n",
              "      <td>Absence</td>\n",
              "    </tr>\n",
              "  </tbody>\n",
              "</table>\n",
              "<p>220 rows × 11 columns</p>\n",
              "</div>\n",
              "      <button class=\"colab-df-convert\" onclick=\"convertToInteractive('df-9dbe4160-f476-4707-a7b6-58c38f60dc8d')\"\n",
              "              title=\"Convert this dataframe to an interactive table.\"\n",
              "              style=\"display:none;\">\n",
              "        \n",
              "  <svg xmlns=\"http://www.w3.org/2000/svg\" height=\"24px\"viewBox=\"0 0 24 24\"\n",
              "       width=\"24px\">\n",
              "    <path d=\"M0 0h24v24H0V0z\" fill=\"none\"/>\n",
              "    <path d=\"M18.56 5.44l.94 2.06.94-2.06 2.06-.94-2.06-.94-.94-2.06-.94 2.06-2.06.94zm-11 1L8.5 8.5l.94-2.06 2.06-.94-2.06-.94L8.5 2.5l-.94 2.06-2.06.94zm10 10l.94 2.06.94-2.06 2.06-.94-2.06-.94-.94-2.06-.94 2.06-2.06.94z\"/><path d=\"M17.41 7.96l-1.37-1.37c-.4-.4-.92-.59-1.43-.59-.52 0-1.04.2-1.43.59L10.3 9.45l-7.72 7.72c-.78.78-.78 2.05 0 2.83L4 21.41c.39.39.9.59 1.41.59.51 0 1.02-.2 1.41-.59l7.78-7.78 2.81-2.81c.8-.78.8-2.07 0-2.86zM5.41 20L4 18.59l7.72-7.72 1.47 1.35L5.41 20z\"/>\n",
              "  </svg>\n",
              "      </button>\n",
              "      \n",
              "  <style>\n",
              "    .colab-df-container {\n",
              "      display:flex;\n",
              "      flex-wrap:wrap;\n",
              "      gap: 12px;\n",
              "    }\n",
              "\n",
              "    .colab-df-convert {\n",
              "      background-color: #E8F0FE;\n",
              "      border: none;\n",
              "      border-radius: 50%;\n",
              "      cursor: pointer;\n",
              "      display: none;\n",
              "      fill: #1967D2;\n",
              "      height: 32px;\n",
              "      padding: 0 0 0 0;\n",
              "      width: 32px;\n",
              "    }\n",
              "\n",
              "    .colab-df-convert:hover {\n",
              "      background-color: #E2EBFA;\n",
              "      box-shadow: 0px 1px 2px rgba(60, 64, 67, 0.3), 0px 1px 3px 1px rgba(60, 64, 67, 0.15);\n",
              "      fill: #174EA6;\n",
              "    }\n",
              "\n",
              "    [theme=dark] .colab-df-convert {\n",
              "      background-color: #3B4455;\n",
              "      fill: #D2E3FC;\n",
              "    }\n",
              "\n",
              "    [theme=dark] .colab-df-convert:hover {\n",
              "      background-color: #434B5C;\n",
              "      box-shadow: 0px 1px 3px 1px rgba(0, 0, 0, 0.15);\n",
              "      filter: drop-shadow(0px 1px 2px rgba(0, 0, 0, 0.3));\n",
              "      fill: #FFFFFF;\n",
              "    }\n",
              "  </style>\n",
              "\n",
              "      <script>\n",
              "        const buttonEl =\n",
              "          document.querySelector('#df-9dbe4160-f476-4707-a7b6-58c38f60dc8d button.colab-df-convert');\n",
              "        buttonEl.style.display =\n",
              "          google.colab.kernel.accessAllowed ? 'block' : 'none';\n",
              "\n",
              "        async function convertToInteractive(key) {\n",
              "          const element = document.querySelector('#df-9dbe4160-f476-4707-a7b6-58c38f60dc8d');\n",
              "          const dataTable =\n",
              "            await google.colab.kernel.invokeFunction('convertToInteractive',\n",
              "                                                     [key], {});\n",
              "          if (!dataTable) return;\n",
              "\n",
              "          const docLinkHtml = 'Like what you see? Visit the ' +\n",
              "            '<a target=\"_blank\" href=https://colab.research.google.com/notebooks/data_table.ipynb>data table notebook</a>'\n",
              "            + ' to learn more about interactive tables.';\n",
              "          element.innerHTML = '';\n",
              "          dataTable['output_type'] = 'display_data';\n",
              "          await google.colab.output.renderOutput(dataTable, element);\n",
              "          const docLink = document.createElement('div');\n",
              "          docLink.innerHTML = docLinkHtml;\n",
              "          element.appendChild(docLink);\n",
              "        }\n",
              "      </script>\n",
              "    </div>\n",
              "  </div>\n",
              "  "
            ]
          },
          "metadata": {},
          "execution_count": 5
        }
      ]
    },
    {
      "cell_type": "markdown",
      "metadata": {
        "id": "pQlIlPnMC047"
      },
      "source": [
        "Gunakan properti **replace** pada dataframe untuk menggganti 0.0 menjadi NaN"
      ]
    },
    {
      "cell_type": "code",
      "metadata": {
        "id": "vMQqkH62CSoe"
      },
      "source": [
        "data = data.replace(0.0, np.NaN)"
      ],
      "execution_count": null,
      "outputs": []
    },
    {
      "cell_type": "markdown",
      "metadata": {
        "id": "-xQtglGOyCyD"
      },
      "source": [
        "\n",
        "\n",
        "\n",
        "\n",
        "\n",
        "Selanjutnya, kita perlu membuat fungsi bernama **imputasi** yang melakukan tahapan berikut:\n",
        "\n",
        "\n",
        "1.   Menghitung rata-rata masing-masing kolom berdasarkan kelasnya\n",
        "2.   Mengisi kolom yang berisi NaN dengan rata-rata kelas yang sesuai\n",
        "\n",
        "\n"
      ]
    },
    {
      "cell_type": "code",
      "metadata": {
        "id": "n-cR9J2EMOMh"
      },
      "source": [
        "def imputasi(df_in):\n",
        "  df_input = df_in.copy()\n",
        "  list_columns = df_input.columns #mendapatkan daftar kolom pada df\n",
        "  class_column = list_columns[-1] #kolom terakhir merupakan kolom kelas\n",
        "  for column in list_columns[:-1]:\n",
        "    df_input[column] = df_input[column].fillna(df_input.groupby(class_column)[column].transform('mean')) #penggantian nilai NaN dilakukan per kolom\n",
        "  return df_input"
      ],
      "execution_count": null,
      "outputs": []
    },
    {
      "cell_type": "markdown",
      "metadata": {
        "id": "fd7tcpRYi8Wx"
      },
      "source": [
        "Kami membuat sebuah dataframe baru bernama **data_imputasi** yang berisi dataset dengan nilai NaN yang sudah diganti dengan cara memanggil fungsi **imputasi**."
      ]
    },
    {
      "cell_type": "code",
      "metadata": {
        "id": "DQgmHM96S1Vd"
      },
      "source": [
        "data_imputasi = imputasi(data)"
      ],
      "execution_count": null,
      "outputs": []
    },
    {
      "cell_type": "markdown",
      "metadata": {
        "id": "Wxccxn1Njczp"
      },
      "source": [
        "Cek apakah masih terdapat nilai NaN pada dataframe."
      ]
    },
    {
      "cell_type": "code",
      "metadata": {
        "id": "eQPaaaMP9sIA",
        "colab": {
          "base_uri": "https://localhost:8080/"
        },
        "outputId": "851ab292-b80a-46a4-d888-05be33da2dae"
      },
      "source": [
        "data_imputasi.isnull().values.any()"
      ],
      "execution_count": null,
      "outputs": [
        {
          "output_type": "execute_result",
          "data": {
            "text/plain": [
              "False"
            ]
          },
          "metadata": {},
          "execution_count": 9
        }
      ]
    },
    {
      "cell_type": "markdown",
      "source": [
        "Dapat dilihat bahwa pengecekan bernilai false yang berarti tidak ada yang bernilai NaN pada datasetnya."
      ],
      "metadata": {
        "id": "5J9W_4u9LV2E"
      }
    },
    {
      "cell_type": "markdown",
      "metadata": {
        "id": "p9VL92u7jskP"
      },
      "source": [
        "### 3) Normalisasi MinMax\n",
        "Normalisasi bertujuan menyamakan rentang nilai pada setiap fitur. Beberapa metode pembelajaran mesin memiliki kinerja yang buruk apabila rentang nilai tiap variabel berbeda jauh.\n",
        "\n",
        "Sebelum melakukan normalisasi, cek terlebih dahulu rentang (nilai max - nilai min) pada masing masing fitur"
      ]
    },
    {
      "cell_type": "code",
      "metadata": {
        "id": "R9FXu_IQl8Ig"
      },
      "source": [
        "def cetak_rentang(df_input):\n",
        "  list_fitur = df_input.columns[:-1]\n",
        "  for fitur in list_fitur:\n",
        "    max = df_input[fitur].max()\n",
        "    min = df_input[fitur].min()\n",
        "    print(\"Rentang fitur\", fitur, \"adalah\", max-min)"
      ],
      "execution_count": null,
      "outputs": []
    },
    {
      "cell_type": "code",
      "metadata": {
        "id": "snFnC2rxjmIa",
        "colab": {
          "base_uri": "https://localhost:8080/"
        },
        "outputId": "0f9da0e2-ab05-45bc-8f5e-c1a4d6fe2a1c"
      },
      "source": [
        "cetak_rentang(data_imputasi)"
      ],
      "execution_count": null,
      "outputs": [
        {
          "output_type": "stream",
          "name": "stdout",
          "text": [
            "Rentang fitur Age adalah 48\n",
            "Rentang fitur Chest_pain_type adalah 3\n",
            "Rentang fitur BP adalah 106\n",
            "Rentang fitur Cholesterol adalah 438\n",
            "Rentang fitur EKG_results adalah 1.0\n",
            "Rentang fitur Max_HR adalah 131\n",
            "Rentang fitur ST_depression adalah 6.1000000000000005\n",
            "Rentang fitur Slope_of_ST adalah 2\n",
            "Rentang fitur Number_of_vessels_fluro adalah 2.0\n",
            "Rentang fitur Thallium adalah 4\n"
          ]
        }
      ]
    },
    {
      "cell_type": "markdown",
      "metadata": {
        "id": "JpDTiUpElTRN"
      },
      "source": [
        "Terlihat bahwa masing-masing fitur memiliki rentang yang berbeda, meskipun tidak terlalu signifikan. Cara pertama yang bisa dilakukan adalah dengan metode minmax, dengan tujuan mengubah skala setiap fitur ke interval [0,1] dengan cara menggeser nilai setiap fitur sehingga nilai minimal adalah 0, dan kemudian membagi dengan nilai maksimal baru.\n"
      ]
    },
    {
      "cell_type": "code",
      "metadata": {
        "id": "tQmEe-Qckfnb"
      },
      "source": [
        "def minmax(df_input):\n",
        "  list_fitur = df_input.columns[:-1]\n",
        "  for fitur in list_fitur:\n",
        "    max = df_input[fitur].max()\n",
        "    min = df_input[fitur].min()\n",
        "    df_input[fitur] = (df_input[fitur]-min)/(max-min)\n",
        "  return df_input"
      ],
      "execution_count": null,
      "outputs": []
    },
    {
      "cell_type": "markdown",
      "metadata": {
        "id": "Lj32Smx6n8LU"
      },
      "source": [
        "Kami membuat sebuah dataframe baru bernama **data_normal** yang berisi hasil dari metode minmax dengan input **data_imputasi**"
      ]
    },
    {
      "cell_type": "code",
      "metadata": {
        "id": "Ow1QWldFnvBu"
      },
      "source": [
        "data_normal = minmax(data_imputasi)"
      ],
      "execution_count": null,
      "outputs": []
    },
    {
      "cell_type": "markdown",
      "metadata": {
        "id": "4OHT17WfoGou"
      },
      "source": [
        "Cek 5 baris pertama **data_normal**"
      ]
    },
    {
      "cell_type": "code",
      "metadata": {
        "id": "fbbNpN9enzYI",
        "colab": {
          "base_uri": "https://localhost:8080/",
          "height": 206
        },
        "outputId": "a95880f8-0f11-4d8c-d380-be2024f8586f"
      },
      "source": [
        "data_normal.head()"
      ],
      "execution_count": null,
      "outputs": [
        {
          "output_type": "execute_result",
          "data": {
            "text/plain": [
              "        Age  Chest_pain_type        BP  Cholesterol  EKG_results    Max_HR  \\\n",
              "0  0.854167         1.000000  0.339623     0.447489     1.000000  0.290076   \n",
              "1  0.791667         0.666667  0.198113     1.000000     1.000000  0.679389   \n",
              "2  0.583333         0.333333  0.283019     0.308219     0.986486  0.534351   \n",
              "3  0.729167         1.000000  0.320755     0.312785     0.984615  0.259542   \n",
              "4  0.937500         0.333333  0.245283     0.326484     1.000000  0.381679   \n",
              "\n",
              "   ST_depression  Slope_of_ST  Number_of_vessels_fluro  Thallium Heart_Disease  \n",
              "0       0.377049          0.5                 1.000000       0.0      Presence  \n",
              "1       0.245902          0.5                 0.216667       1.0       Absence  \n",
              "2       0.032787          0.0                 0.362500       1.0      Presence  \n",
              "3       0.016393          0.5                 0.000000       1.0       Absence  \n",
              "4       0.016393          0.0                 0.000000       0.0       Absence  "
            ],
            "text/html": [
              "\n",
              "  <div id=\"df-49f0fd46-1abb-41d1-8fc6-e95d8355f05a\">\n",
              "    <div class=\"colab-df-container\">\n",
              "      <div>\n",
              "<style scoped>\n",
              "    .dataframe tbody tr th:only-of-type {\n",
              "        vertical-align: middle;\n",
              "    }\n",
              "\n",
              "    .dataframe tbody tr th {\n",
              "        vertical-align: top;\n",
              "    }\n",
              "\n",
              "    .dataframe thead th {\n",
              "        text-align: right;\n",
              "    }\n",
              "</style>\n",
              "<table border=\"1\" class=\"dataframe\">\n",
              "  <thead>\n",
              "    <tr style=\"text-align: right;\">\n",
              "      <th></th>\n",
              "      <th>Age</th>\n",
              "      <th>Chest_pain_type</th>\n",
              "      <th>BP</th>\n",
              "      <th>Cholesterol</th>\n",
              "      <th>EKG_results</th>\n",
              "      <th>Max_HR</th>\n",
              "      <th>ST_depression</th>\n",
              "      <th>Slope_of_ST</th>\n",
              "      <th>Number_of_vessels_fluro</th>\n",
              "      <th>Thallium</th>\n",
              "      <th>Heart_Disease</th>\n",
              "    </tr>\n",
              "  </thead>\n",
              "  <tbody>\n",
              "    <tr>\n",
              "      <th>0</th>\n",
              "      <td>0.854167</td>\n",
              "      <td>1.000000</td>\n",
              "      <td>0.339623</td>\n",
              "      <td>0.447489</td>\n",
              "      <td>1.000000</td>\n",
              "      <td>0.290076</td>\n",
              "      <td>0.377049</td>\n",
              "      <td>0.5</td>\n",
              "      <td>1.000000</td>\n",
              "      <td>0.0</td>\n",
              "      <td>Presence</td>\n",
              "    </tr>\n",
              "    <tr>\n",
              "      <th>1</th>\n",
              "      <td>0.791667</td>\n",
              "      <td>0.666667</td>\n",
              "      <td>0.198113</td>\n",
              "      <td>1.000000</td>\n",
              "      <td>1.000000</td>\n",
              "      <td>0.679389</td>\n",
              "      <td>0.245902</td>\n",
              "      <td>0.5</td>\n",
              "      <td>0.216667</td>\n",
              "      <td>1.0</td>\n",
              "      <td>Absence</td>\n",
              "    </tr>\n",
              "    <tr>\n",
              "      <th>2</th>\n",
              "      <td>0.583333</td>\n",
              "      <td>0.333333</td>\n",
              "      <td>0.283019</td>\n",
              "      <td>0.308219</td>\n",
              "      <td>0.986486</td>\n",
              "      <td>0.534351</td>\n",
              "      <td>0.032787</td>\n",
              "      <td>0.0</td>\n",
              "      <td>0.362500</td>\n",
              "      <td>1.0</td>\n",
              "      <td>Presence</td>\n",
              "    </tr>\n",
              "    <tr>\n",
              "      <th>3</th>\n",
              "      <td>0.729167</td>\n",
              "      <td>1.000000</td>\n",
              "      <td>0.320755</td>\n",
              "      <td>0.312785</td>\n",
              "      <td>0.984615</td>\n",
              "      <td>0.259542</td>\n",
              "      <td>0.016393</td>\n",
              "      <td>0.5</td>\n",
              "      <td>0.000000</td>\n",
              "      <td>1.0</td>\n",
              "      <td>Absence</td>\n",
              "    </tr>\n",
              "    <tr>\n",
              "      <th>4</th>\n",
              "      <td>0.937500</td>\n",
              "      <td>0.333333</td>\n",
              "      <td>0.245283</td>\n",
              "      <td>0.326484</td>\n",
              "      <td>1.000000</td>\n",
              "      <td>0.381679</td>\n",
              "      <td>0.016393</td>\n",
              "      <td>0.0</td>\n",
              "      <td>0.000000</td>\n",
              "      <td>0.0</td>\n",
              "      <td>Absence</td>\n",
              "    </tr>\n",
              "  </tbody>\n",
              "</table>\n",
              "</div>\n",
              "      <button class=\"colab-df-convert\" onclick=\"convertToInteractive('df-49f0fd46-1abb-41d1-8fc6-e95d8355f05a')\"\n",
              "              title=\"Convert this dataframe to an interactive table.\"\n",
              "              style=\"display:none;\">\n",
              "        \n",
              "  <svg xmlns=\"http://www.w3.org/2000/svg\" height=\"24px\"viewBox=\"0 0 24 24\"\n",
              "       width=\"24px\">\n",
              "    <path d=\"M0 0h24v24H0V0z\" fill=\"none\"/>\n",
              "    <path d=\"M18.56 5.44l.94 2.06.94-2.06 2.06-.94-2.06-.94-.94-2.06-.94 2.06-2.06.94zm-11 1L8.5 8.5l.94-2.06 2.06-.94-2.06-.94L8.5 2.5l-.94 2.06-2.06.94zm10 10l.94 2.06.94-2.06 2.06-.94-2.06-.94-.94-2.06-.94 2.06-2.06.94z\"/><path d=\"M17.41 7.96l-1.37-1.37c-.4-.4-.92-.59-1.43-.59-.52 0-1.04.2-1.43.59L10.3 9.45l-7.72 7.72c-.78.78-.78 2.05 0 2.83L4 21.41c.39.39.9.59 1.41.59.51 0 1.02-.2 1.41-.59l7.78-7.78 2.81-2.81c.8-.78.8-2.07 0-2.86zM5.41 20L4 18.59l7.72-7.72 1.47 1.35L5.41 20z\"/>\n",
              "  </svg>\n",
              "      </button>\n",
              "      \n",
              "  <style>\n",
              "    .colab-df-container {\n",
              "      display:flex;\n",
              "      flex-wrap:wrap;\n",
              "      gap: 12px;\n",
              "    }\n",
              "\n",
              "    .colab-df-convert {\n",
              "      background-color: #E8F0FE;\n",
              "      border: none;\n",
              "      border-radius: 50%;\n",
              "      cursor: pointer;\n",
              "      display: none;\n",
              "      fill: #1967D2;\n",
              "      height: 32px;\n",
              "      padding: 0 0 0 0;\n",
              "      width: 32px;\n",
              "    }\n",
              "\n",
              "    .colab-df-convert:hover {\n",
              "      background-color: #E2EBFA;\n",
              "      box-shadow: 0px 1px 2px rgba(60, 64, 67, 0.3), 0px 1px 3px 1px rgba(60, 64, 67, 0.15);\n",
              "      fill: #174EA6;\n",
              "    }\n",
              "\n",
              "    [theme=dark] .colab-df-convert {\n",
              "      background-color: #3B4455;\n",
              "      fill: #D2E3FC;\n",
              "    }\n",
              "\n",
              "    [theme=dark] .colab-df-convert:hover {\n",
              "      background-color: #434B5C;\n",
              "      box-shadow: 0px 1px 3px 1px rgba(0, 0, 0, 0.15);\n",
              "      filter: drop-shadow(0px 1px 2px rgba(0, 0, 0, 0.3));\n",
              "      fill: #FFFFFF;\n",
              "    }\n",
              "  </style>\n",
              "\n",
              "      <script>\n",
              "        const buttonEl =\n",
              "          document.querySelector('#df-49f0fd46-1abb-41d1-8fc6-e95d8355f05a button.colab-df-convert');\n",
              "        buttonEl.style.display =\n",
              "          google.colab.kernel.accessAllowed ? 'block' : 'none';\n",
              "\n",
              "        async function convertToInteractive(key) {\n",
              "          const element = document.querySelector('#df-49f0fd46-1abb-41d1-8fc6-e95d8355f05a');\n",
              "          const dataTable =\n",
              "            await google.colab.kernel.invokeFunction('convertToInteractive',\n",
              "                                                     [key], {});\n",
              "          if (!dataTable) return;\n",
              "\n",
              "          const docLinkHtml = 'Like what you see? Visit the ' +\n",
              "            '<a target=\"_blank\" href=https://colab.research.google.com/notebooks/data_table.ipynb>data table notebook</a>'\n",
              "            + ' to learn more about interactive tables.';\n",
              "          element.innerHTML = '';\n",
              "          dataTable['output_type'] = 'display_data';\n",
              "          await google.colab.output.renderOutput(dataTable, element);\n",
              "          const docLink = document.createElement('div');\n",
              "          docLink.innerHTML = docLinkHtml;\n",
              "          element.appendChild(docLink);\n",
              "        }\n",
              "      </script>\n",
              "    </div>\n",
              "  </div>\n",
              "  "
            ]
          },
          "metadata": {},
          "execution_count": 14
        }
      ]
    },
    {
      "cell_type": "markdown",
      "metadata": {
        "id": "HWU0cCGBoOLR"
      },
      "source": [
        "Tampilkan rentang masing-masing fitur menggunakan fungsi **cetak_rentang** yang telah dibuat"
      ]
    },
    {
      "cell_type": "code",
      "metadata": {
        "id": "qQay3cQ5n1rk",
        "colab": {
          "base_uri": "https://localhost:8080/"
        },
        "outputId": "69a2f372-7040-481c-bbd9-34e5f31d7b59"
      },
      "source": [
        "cetak_rentang(data_normal)"
      ],
      "execution_count": null,
      "outputs": [
        {
          "output_type": "stream",
          "name": "stdout",
          "text": [
            "Rentang fitur Age adalah 1.0\n",
            "Rentang fitur Chest_pain_type adalah 1.0\n",
            "Rentang fitur BP adalah 1.0\n",
            "Rentang fitur Cholesterol adalah 1.0\n",
            "Rentang fitur EKG_results adalah 1.0\n",
            "Rentang fitur Max_HR adalah 1.0\n",
            "Rentang fitur ST_depression adalah 1.0\n",
            "Rentang fitur Slope_of_ST adalah 1.0\n",
            "Rentang fitur Number_of_vessels_fluro adalah 1.0\n",
            "Rentang fitur Thallium adalah 1.0\n"
          ]
        }
      ]
    },
    {
      "cell_type": "markdown",
      "source": [
        "Dapat dilihat bahwa interval rentang dari setiap fitur sudah diantara 0 hingga 1."
      ],
      "metadata": {
        "id": "VvVTErdAM8N-"
      }
    },
    {
      "cell_type": "markdown",
      "metadata": {
        "id": "7br3-zmsp5Dx"
      },
      "source": [
        "## 4) Normalisasi Z-Score\n",
        "Cara lain yang bisa digunakan dalam normalisasi data adalah dengan Z-score, dengan tujuan hasil dari normalisasi tersebut adalah mendapatkan rata-rata dengan skor 0 dan standar deviasi 1\n"
      ]
    },
    {
      "cell_type": "code",
      "metadata": {
        "id": "jQwH6j-0n4-w"
      },
      "source": [
        "def zscore(df_in):\n",
        "  df_input = df_in.copy()\n",
        "  list_fitur = df_input.columns[:-1]\n",
        "  for fitur in list_fitur:\n",
        "    mean = df_input[fitur].mean()\n",
        "    std = df_input[fitur].std()\n",
        "    df_input[fitur] = (df_input[fitur]-mean)/(std)\n",
        "  return df_input"
      ],
      "execution_count": null,
      "outputs": []
    },
    {
      "cell_type": "code",
      "metadata": {
        "id": "CRXju1M1mTlJ"
      },
      "source": [
        "data_zscore = zscore(data_imputasi)"
      ],
      "execution_count": null,
      "outputs": []
    },
    {
      "cell_type": "code",
      "metadata": {
        "id": "vtsHB8VEmhqu",
        "colab": {
          "base_uri": "https://localhost:8080/",
          "height": 206
        },
        "outputId": "e38deaf1-741b-4c92-a5d7-af7117d4a293"
      },
      "source": [
        "data_zscore.head()"
      ],
      "execution_count": null,
      "outputs": [
        {
          "output_type": "execute_result",
          "data": {
            "text/plain": [
              "        Age  Chest_pain_type        BP  Cholesterol  EKG_results    Max_HR  \\\n",
              "0  1.708920         0.869313 -0.075270     1.399613     0.170000 -1.755947   \n",
              "1  1.379578        -0.183219 -0.915060     6.081711     0.170000  0.445582   \n",
              "2  0.281771        -1.235750 -0.411186     0.219415     0.012143 -0.374596   \n",
              "3  1.050236         0.869313 -0.187242     0.258110    -0.009714 -1.928616   \n",
              "4  2.148043        -1.235750 -0.635130     0.374195     0.170000 -1.237940   \n",
              "\n",
              "   ST_depression  Slope_of_ST  Number_of_vessels_fluro  Thallium Heart_Disease  \n",
              "0       1.014905     0.675165                 2.879690 -0.874083      Presence  \n",
              "1       0.152481     0.675165                -0.259766  1.187073       Absence  \n",
              "2      -1.248957    -0.952466                 0.324707  1.187073      Presence  \n",
              "3      -1.356760     0.675165                -1.128126  1.187073       Absence  \n",
              "4      -1.356760    -0.952466                -1.128126 -0.874083       Absence  "
            ],
            "text/html": [
              "\n",
              "  <div id=\"df-afebcff4-c61e-4cd4-85b1-606d52e5b292\">\n",
              "    <div class=\"colab-df-container\">\n",
              "      <div>\n",
              "<style scoped>\n",
              "    .dataframe tbody tr th:only-of-type {\n",
              "        vertical-align: middle;\n",
              "    }\n",
              "\n",
              "    .dataframe tbody tr th {\n",
              "        vertical-align: top;\n",
              "    }\n",
              "\n",
              "    .dataframe thead th {\n",
              "        text-align: right;\n",
              "    }\n",
              "</style>\n",
              "<table border=\"1\" class=\"dataframe\">\n",
              "  <thead>\n",
              "    <tr style=\"text-align: right;\">\n",
              "      <th></th>\n",
              "      <th>Age</th>\n",
              "      <th>Chest_pain_type</th>\n",
              "      <th>BP</th>\n",
              "      <th>Cholesterol</th>\n",
              "      <th>EKG_results</th>\n",
              "      <th>Max_HR</th>\n",
              "      <th>ST_depression</th>\n",
              "      <th>Slope_of_ST</th>\n",
              "      <th>Number_of_vessels_fluro</th>\n",
              "      <th>Thallium</th>\n",
              "      <th>Heart_Disease</th>\n",
              "    </tr>\n",
              "  </thead>\n",
              "  <tbody>\n",
              "    <tr>\n",
              "      <th>0</th>\n",
              "      <td>1.708920</td>\n",
              "      <td>0.869313</td>\n",
              "      <td>-0.075270</td>\n",
              "      <td>1.399613</td>\n",
              "      <td>0.170000</td>\n",
              "      <td>-1.755947</td>\n",
              "      <td>1.014905</td>\n",
              "      <td>0.675165</td>\n",
              "      <td>2.879690</td>\n",
              "      <td>-0.874083</td>\n",
              "      <td>Presence</td>\n",
              "    </tr>\n",
              "    <tr>\n",
              "      <th>1</th>\n",
              "      <td>1.379578</td>\n",
              "      <td>-0.183219</td>\n",
              "      <td>-0.915060</td>\n",
              "      <td>6.081711</td>\n",
              "      <td>0.170000</td>\n",
              "      <td>0.445582</td>\n",
              "      <td>0.152481</td>\n",
              "      <td>0.675165</td>\n",
              "      <td>-0.259766</td>\n",
              "      <td>1.187073</td>\n",
              "      <td>Absence</td>\n",
              "    </tr>\n",
              "    <tr>\n",
              "      <th>2</th>\n",
              "      <td>0.281771</td>\n",
              "      <td>-1.235750</td>\n",
              "      <td>-0.411186</td>\n",
              "      <td>0.219415</td>\n",
              "      <td>0.012143</td>\n",
              "      <td>-0.374596</td>\n",
              "      <td>-1.248957</td>\n",
              "      <td>-0.952466</td>\n",
              "      <td>0.324707</td>\n",
              "      <td>1.187073</td>\n",
              "      <td>Presence</td>\n",
              "    </tr>\n",
              "    <tr>\n",
              "      <th>3</th>\n",
              "      <td>1.050236</td>\n",
              "      <td>0.869313</td>\n",
              "      <td>-0.187242</td>\n",
              "      <td>0.258110</td>\n",
              "      <td>-0.009714</td>\n",
              "      <td>-1.928616</td>\n",
              "      <td>-1.356760</td>\n",
              "      <td>0.675165</td>\n",
              "      <td>-1.128126</td>\n",
              "      <td>1.187073</td>\n",
              "      <td>Absence</td>\n",
              "    </tr>\n",
              "    <tr>\n",
              "      <th>4</th>\n",
              "      <td>2.148043</td>\n",
              "      <td>-1.235750</td>\n",
              "      <td>-0.635130</td>\n",
              "      <td>0.374195</td>\n",
              "      <td>0.170000</td>\n",
              "      <td>-1.237940</td>\n",
              "      <td>-1.356760</td>\n",
              "      <td>-0.952466</td>\n",
              "      <td>-1.128126</td>\n",
              "      <td>-0.874083</td>\n",
              "      <td>Absence</td>\n",
              "    </tr>\n",
              "  </tbody>\n",
              "</table>\n",
              "</div>\n",
              "      <button class=\"colab-df-convert\" onclick=\"convertToInteractive('df-afebcff4-c61e-4cd4-85b1-606d52e5b292')\"\n",
              "              title=\"Convert this dataframe to an interactive table.\"\n",
              "              style=\"display:none;\">\n",
              "        \n",
              "  <svg xmlns=\"http://www.w3.org/2000/svg\" height=\"24px\"viewBox=\"0 0 24 24\"\n",
              "       width=\"24px\">\n",
              "    <path d=\"M0 0h24v24H0V0z\" fill=\"none\"/>\n",
              "    <path d=\"M18.56 5.44l.94 2.06.94-2.06 2.06-.94-2.06-.94-.94-2.06-.94 2.06-2.06.94zm-11 1L8.5 8.5l.94-2.06 2.06-.94-2.06-.94L8.5 2.5l-.94 2.06-2.06.94zm10 10l.94 2.06.94-2.06 2.06-.94-2.06-.94-.94-2.06-.94 2.06-2.06.94z\"/><path d=\"M17.41 7.96l-1.37-1.37c-.4-.4-.92-.59-1.43-.59-.52 0-1.04.2-1.43.59L10.3 9.45l-7.72 7.72c-.78.78-.78 2.05 0 2.83L4 21.41c.39.39.9.59 1.41.59.51 0 1.02-.2 1.41-.59l7.78-7.78 2.81-2.81c.8-.78.8-2.07 0-2.86zM5.41 20L4 18.59l7.72-7.72 1.47 1.35L5.41 20z\"/>\n",
              "  </svg>\n",
              "      </button>\n",
              "      \n",
              "  <style>\n",
              "    .colab-df-container {\n",
              "      display:flex;\n",
              "      flex-wrap:wrap;\n",
              "      gap: 12px;\n",
              "    }\n",
              "\n",
              "    .colab-df-convert {\n",
              "      background-color: #E8F0FE;\n",
              "      border: none;\n",
              "      border-radius: 50%;\n",
              "      cursor: pointer;\n",
              "      display: none;\n",
              "      fill: #1967D2;\n",
              "      height: 32px;\n",
              "      padding: 0 0 0 0;\n",
              "      width: 32px;\n",
              "    }\n",
              "\n",
              "    .colab-df-convert:hover {\n",
              "      background-color: #E2EBFA;\n",
              "      box-shadow: 0px 1px 2px rgba(60, 64, 67, 0.3), 0px 1px 3px 1px rgba(60, 64, 67, 0.15);\n",
              "      fill: #174EA6;\n",
              "    }\n",
              "\n",
              "    [theme=dark] .colab-df-convert {\n",
              "      background-color: #3B4455;\n",
              "      fill: #D2E3FC;\n",
              "    }\n",
              "\n",
              "    [theme=dark] .colab-df-convert:hover {\n",
              "      background-color: #434B5C;\n",
              "      box-shadow: 0px 1px 3px 1px rgba(0, 0, 0, 0.15);\n",
              "      filter: drop-shadow(0px 1px 2px rgba(0, 0, 0, 0.3));\n",
              "      fill: #FFFFFF;\n",
              "    }\n",
              "  </style>\n",
              "\n",
              "      <script>\n",
              "        const buttonEl =\n",
              "          document.querySelector('#df-afebcff4-c61e-4cd4-85b1-606d52e5b292 button.colab-df-convert');\n",
              "        buttonEl.style.display =\n",
              "          google.colab.kernel.accessAllowed ? 'block' : 'none';\n",
              "\n",
              "        async function convertToInteractive(key) {\n",
              "          const element = document.querySelector('#df-afebcff4-c61e-4cd4-85b1-606d52e5b292');\n",
              "          const dataTable =\n",
              "            await google.colab.kernel.invokeFunction('convertToInteractive',\n",
              "                                                     [key], {});\n",
              "          if (!dataTable) return;\n",
              "\n",
              "          const docLinkHtml = 'Like what you see? Visit the ' +\n",
              "            '<a target=\"_blank\" href=https://colab.research.google.com/notebooks/data_table.ipynb>data table notebook</a>'\n",
              "            + ' to learn more about interactive tables.';\n",
              "          element.innerHTML = '';\n",
              "          dataTable['output_type'] = 'display_data';\n",
              "          await google.colab.output.renderOutput(dataTable, element);\n",
              "          const docLink = document.createElement('div');\n",
              "          docLink.innerHTML = docLinkHtml;\n",
              "          element.appendChild(docLink);\n",
              "        }\n",
              "      </script>\n",
              "    </div>\n",
              "  </div>\n",
              "  "
            ]
          },
          "metadata": {},
          "execution_count": 18
        }
      ]
    },
    {
      "cell_type": "code",
      "metadata": {
        "id": "hNLI-K6YnVvM",
        "colab": {
          "base_uri": "https://localhost:8080/"
        },
        "outputId": "670dfc13-99f4-4ae0-910b-21433ee687ca"
      },
      "source": [
        "print('Cek Nilai Rentang:')\n",
        "print('Sebelum Normalisasi')\n",
        "cetak_rentang(data_imputasi)\n",
        "print('\\nNormalisasi MinMax')\n",
        "cetak_rentang(data_normal)\n",
        "print('\\nNormalisasi ZScore')\n",
        "cetak_rentang(data_zscore)\n",
        "\n",
        "print('\\nCek Rata-Rata dan Standar Deviasi:')\n",
        "print('Sebelum Normalisasi')\n",
        "print(round(data_imputasi.describe(),3))\n",
        "print('\\nNormalisasi MinMax')\n",
        "print(round(data_normal.describe(),3))\n",
        "print('\\nNormalisasi ZScore')\n",
        "print(round(data_zscore.describe(),3))"
      ],
      "execution_count": null,
      "outputs": [
        {
          "output_type": "stream",
          "name": "stdout",
          "text": [
            "Cek Nilai Rentang:\n",
            "Sebelum Normalisasi\n",
            "Rentang fitur Age adalah 1.0\n",
            "Rentang fitur Chest_pain_type adalah 1.0\n",
            "Rentang fitur BP adalah 1.0\n",
            "Rentang fitur Cholesterol adalah 1.0\n",
            "Rentang fitur EKG_results adalah 1.0\n",
            "Rentang fitur Max_HR adalah 1.0\n",
            "Rentang fitur ST_depression adalah 1.0\n",
            "Rentang fitur Slope_of_ST adalah 1.0\n",
            "Rentang fitur Number_of_vessels_fluro adalah 1.0\n",
            "Rentang fitur Thallium adalah 1.0\n",
            "\n",
            "Normalisasi MinMax\n",
            "Rentang fitur Age adalah 1.0\n",
            "Rentang fitur Chest_pain_type adalah 1.0\n",
            "Rentang fitur BP adalah 1.0\n",
            "Rentang fitur Cholesterol adalah 1.0\n",
            "Rentang fitur EKG_results adalah 1.0\n",
            "Rentang fitur Max_HR adalah 1.0\n",
            "Rentang fitur ST_depression adalah 1.0\n",
            "Rentang fitur Slope_of_ST adalah 1.0\n",
            "Rentang fitur Number_of_vessels_fluro adalah 1.0\n",
            "Rentang fitur Thallium adalah 1.0\n",
            "\n",
            "Normalisasi ZScore\n",
            "Rentang fitur Age adalah 5.269475184319818\n",
            "Rentang fitur Chest_pain_type adalah 3.1575954834650592\n",
            "Rentang fitur BP adalah 5.934515988838667\n",
            "Rentang fitur Cholesterol adalah 8.474209469212031\n",
            "Rentang fitur EKG_results adalah 11.681426847707039\n",
            "Rentang fitur Max_HR adalah 5.65490812443557\n",
            "Rentang fitur ST_depression adalah 6.575981162641703\n",
            "Rentang fitur Slope_of_ST adalah 3.2552621761425873\n",
            "Rentang fitur Number_of_vessels_fluro adalah 4.007815770853201\n",
            "Rentang fitur Thallium adalah 2.061155547256432\n",
            "\n",
            "Cek Rata-Rata dan Standar Deviasi:\n",
            "Sebelum Normalisasi\n",
            "           Age  Chest_pain_type       BP  Cholesterol  EKG_results   Max_HR  \\\n",
            "count  270.000          270.000  270.000      270.000      270.000  270.000   \n",
            "mean     0.530            0.725    0.352        0.282        0.985    0.601   \n",
            "std      0.190            0.317    0.169        0.118        0.086    0.177   \n",
            "min      0.000            0.000    0.000        0.000        0.000    0.000   \n",
            "25%      0.396            0.667    0.245        0.199        0.985    0.473   \n",
            "50%      0.542            0.667    0.340        0.272        1.000    0.630   \n",
            "75%      0.667            1.000    0.434        0.352        1.000    0.725   \n",
            "max      1.000            1.000    1.000        1.000        1.000    1.000   \n",
            "\n",
            "       ST_depression  Slope_of_ST  Number_of_vessels_fluro  Thallium  \n",
            "count        270.000      270.000                  270.000   270.000  \n",
            "mean           0.223        0.293                    0.281     0.424  \n",
            "std            0.152        0.307                    0.250     0.485  \n",
            "min            0.000        0.000                    0.000     0.000  \n",
            "25%            0.148        0.000                    0.217     0.000  \n",
            "50%            0.162        0.500                    0.217     0.000  \n",
            "75%            0.302        0.500                    0.363     1.000  \n",
            "max            1.000        1.000                    1.000     1.000  \n",
            "\n",
            "Normalisasi MinMax\n",
            "           Age  Chest_pain_type       BP  Cholesterol  EKG_results   Max_HR  \\\n",
            "count  270.000          270.000  270.000      270.000      270.000  270.000   \n",
            "mean     0.530            0.725    0.352        0.282        0.985    0.601   \n",
            "std      0.190            0.317    0.169        0.118        0.086    0.177   \n",
            "min      0.000            0.000    0.000        0.000        0.000    0.000   \n",
            "25%      0.396            0.667    0.245        0.199        0.985    0.473   \n",
            "50%      0.542            0.667    0.340        0.272        1.000    0.630   \n",
            "75%      0.667            1.000    0.434        0.352        1.000    0.725   \n",
            "max      1.000            1.000    1.000        1.000        1.000    1.000   \n",
            "\n",
            "       ST_depression  Slope_of_ST  Number_of_vessels_fluro  Thallium  \n",
            "count        270.000      270.000                  270.000   270.000  \n",
            "mean           0.223        0.293                    0.281     0.424  \n",
            "std            0.152        0.307                    0.250     0.485  \n",
            "min            0.000        0.000                    0.000     0.000  \n",
            "25%            0.148        0.000                    0.217     0.000  \n",
            "50%            0.162        0.500                    0.217     0.000  \n",
            "75%            0.302        0.500                    0.363     1.000  \n",
            "max            1.000        1.000                    1.000     1.000  \n",
            "\n",
            "Normalisasi ZScore\n",
            "           Age  Chest_pain_type       BP  Cholesterol  EKG_results   Max_HR  \\\n",
            "count  270.000          270.000  270.000      270.000      270.000  270.000   \n",
            "mean    -0.000           -0.000    0.000       -0.000        0.000    0.000   \n",
            "std      1.000            1.000    1.000        1.000        1.000    1.000   \n",
            "min     -2.792           -2.288   -2.091       -2.392      -11.511   -3.396   \n",
            "25%     -0.706           -0.183   -0.635       -0.709       -0.010   -0.720   \n",
            "50%      0.062           -0.183   -0.075       -0.090        0.170    0.165   \n",
            "75%      0.721            0.869    0.485        0.587        0.170    0.705   \n",
            "max      2.477            0.869    3.844        6.082        0.170    2.259   \n",
            "\n",
            "       ST_depression  Slope_of_ST  Number_of_vessels_fluro  Thallium  \n",
            "count        270.000      270.000                  270.000   270.000  \n",
            "mean           0.000        0.000                    0.000     0.000  \n",
            "std            1.000        1.000                    1.000     1.000  \n",
            "min           -1.465       -0.952                   -1.128    -0.874  \n",
            "25%           -0.494       -0.952                   -0.260    -0.874  \n",
            "50%           -0.401        0.675                   -0.260    -0.874  \n",
            "75%            0.519        0.675                    0.325     1.187  \n",
            "max            5.111        2.303                    2.880     1.187  \n"
          ]
        }
      ]
    },
    {
      "cell_type": "markdown",
      "source": [
        "Dapat dilihat pada tabel normalisasi Z-Score, didapatkan rata-rata (mean) mendekati 0 dan standar deviasi (std) bernilai 1."
      ],
      "metadata": {
        "id": "xLuwRBaPnheN"
      }
    },
    {
      "cell_type": "markdown",
      "source": [
        "# Klasifikasi KNN"
      ],
      "metadata": {
        "id": "g4R5jnbCnpzu"
      }
    },
    {
      "cell_type": "markdown",
      "source": [
        "### 1) Membagi data menjadi data latih dan data uji\n",
        "\n",
        "Metode pembelajaran mesin memerlukan dua jenis data :\n",
        "\n",
        "\n",
        "1.   Data latih : Digunakan untuk proses training metode klasifikasi\n",
        "2.   Data uji : Digunakan untuk proses evaluasi metode klasifikasi\n",
        "\n",
        "Data uji dan data latih perlu dibuat terpisah (mutualy exclusive) agar hasil evaluasi lebih akurat.\n",
        "\n",
        "Data uji dan data latih dapat dibuat dengan cara membagi dataset dengan rasio tertentu, misalnya 80% data latih dan 20% data uji.\n",
        "\n",
        "Library Scikit-learn memiliki fungsi [train_test_split](https://scikit-learn.org/stable/modules/generated/sklearn.model_selection.train_test_split.html) pada modul **model_selection** untuk membagi dataset menjadi data latih dan data uji. Bagilah dataset anda menjadi dua, yaitu **data_latih** dan **data_uji**.\n"
      ],
      "metadata": {
        "id": "ljy98gP9nza2"
      }
    },
    {
      "cell_type": "code",
      "source": [
        "from sklearn.model_selection import train_test_split\n",
        "data_latih, data_uji = train_test_split(data_imputasi, test_size = 0.2)"
      ],
      "metadata": {
        "id": "M8poMvMAntPP"
      },
      "execution_count": null,
      "outputs": []
    },
    {
      "cell_type": "markdown",
      "source": [
        "Tampilkan banyaknya data pada **data_latih** dan **data_uji**. Seharusnya **data_latih** terdiri dari 120 data, dan **data_uji** terdiri dari 30 data"
      ],
      "metadata": {
        "id": "sVjm9bgHn-Sa"
      }
    },
    {
      "cell_type": "code",
      "source": [
        "print(data_latih.shape[0])\n",
        "print(data_uji.shape[0])"
      ],
      "metadata": {
        "colab": {
          "base_uri": "https://localhost:8080/"
        },
        "id": "3PJxIa64n_EJ",
        "outputId": "dc426b9f-9a3a-4c1e-f9cd-f435753a9634"
      },
      "execution_count": null,
      "outputs": [
        {
          "output_type": "stream",
          "name": "stdout",
          "text": [
            "216\n",
            "54\n"
          ]
        }
      ]
    },
    {
      "cell_type": "markdown",
      "source": [
        "Pisahkan label/kategori dari data latih dan data uji menjadi variabel tersendiri. Beri nama variabelnya **label_latih** dan **label_uji**"
      ],
      "metadata": {
        "id": "xQvgQu6ioIdO"
      }
    },
    {
      "cell_type": "code",
      "source": [
        "label_latih = data_latih.pop('Heart_Disease')\n",
        "label_uji = data_uji.pop('Heart_Disease')"
      ],
      "metadata": {
        "id": "9FzXRz6aoJdE"
      },
      "execution_count": null,
      "outputs": []
    },
    {
      "cell_type": "code",
      "source": [
        "data_uji.head()"
      ],
      "metadata": {
        "colab": {
          "base_uri": "https://localhost:8080/",
          "height": 206
        },
        "id": "cso71UkcoM7-",
        "outputId": "31d09a51-c13a-41d6-a905-bdd47cb2055c"
      },
      "execution_count": null,
      "outputs": [
        {
          "output_type": "execute_result",
          "data": {
            "text/plain": [
              "          Age  Chest_pain_type        BP  Cholesterol  EKG_results    Max_HR  \\\n",
              "113  0.520833         0.666667  0.386792     0.406393     0.984615  0.755725   \n",
              "19   0.229167         0.000000  0.433962     0.166667     0.984615  0.816794   \n",
              "35   0.395833         1.000000  0.339623     0.296804     1.000000  0.603053   \n",
              "252  0.312500         1.000000  0.169811     0.374429     1.000000  0.625954   \n",
              "99   0.437500         0.333333  0.245283     0.269406     0.984615  0.694656   \n",
              "\n",
              "     ST_depression  Slope_of_ST  Number_of_vessels_fluro  Thallium  \n",
              "113       0.159601          0.0                 0.216667       0.0  \n",
              "19        0.213115          0.0                 0.216667       1.0  \n",
              "35        0.301606          0.0                 0.500000       1.0  \n",
              "252       0.301606          0.0                 0.000000       0.0  \n",
              "99        0.163934          0.0                 0.216667       0.0  "
            ],
            "text/html": [
              "\n",
              "  <div id=\"df-bbea75b3-36a9-49fe-b34c-f9b2daf05eda\">\n",
              "    <div class=\"colab-df-container\">\n",
              "      <div>\n",
              "<style scoped>\n",
              "    .dataframe tbody tr th:only-of-type {\n",
              "        vertical-align: middle;\n",
              "    }\n",
              "\n",
              "    .dataframe tbody tr th {\n",
              "        vertical-align: top;\n",
              "    }\n",
              "\n",
              "    .dataframe thead th {\n",
              "        text-align: right;\n",
              "    }\n",
              "</style>\n",
              "<table border=\"1\" class=\"dataframe\">\n",
              "  <thead>\n",
              "    <tr style=\"text-align: right;\">\n",
              "      <th></th>\n",
              "      <th>Age</th>\n",
              "      <th>Chest_pain_type</th>\n",
              "      <th>BP</th>\n",
              "      <th>Cholesterol</th>\n",
              "      <th>EKG_results</th>\n",
              "      <th>Max_HR</th>\n",
              "      <th>ST_depression</th>\n",
              "      <th>Slope_of_ST</th>\n",
              "      <th>Number_of_vessels_fluro</th>\n",
              "      <th>Thallium</th>\n",
              "    </tr>\n",
              "  </thead>\n",
              "  <tbody>\n",
              "    <tr>\n",
              "      <th>113</th>\n",
              "      <td>0.520833</td>\n",
              "      <td>0.666667</td>\n",
              "      <td>0.386792</td>\n",
              "      <td>0.406393</td>\n",
              "      <td>0.984615</td>\n",
              "      <td>0.755725</td>\n",
              "      <td>0.159601</td>\n",
              "      <td>0.0</td>\n",
              "      <td>0.216667</td>\n",
              "      <td>0.0</td>\n",
              "    </tr>\n",
              "    <tr>\n",
              "      <th>19</th>\n",
              "      <td>0.229167</td>\n",
              "      <td>0.000000</td>\n",
              "      <td>0.433962</td>\n",
              "      <td>0.166667</td>\n",
              "      <td>0.984615</td>\n",
              "      <td>0.816794</td>\n",
              "      <td>0.213115</td>\n",
              "      <td>0.0</td>\n",
              "      <td>0.216667</td>\n",
              "      <td>1.0</td>\n",
              "    </tr>\n",
              "    <tr>\n",
              "      <th>35</th>\n",
              "      <td>0.395833</td>\n",
              "      <td>1.000000</td>\n",
              "      <td>0.339623</td>\n",
              "      <td>0.296804</td>\n",
              "      <td>1.000000</td>\n",
              "      <td>0.603053</td>\n",
              "      <td>0.301606</td>\n",
              "      <td>0.0</td>\n",
              "      <td>0.500000</td>\n",
              "      <td>1.0</td>\n",
              "    </tr>\n",
              "    <tr>\n",
              "      <th>252</th>\n",
              "      <td>0.312500</td>\n",
              "      <td>1.000000</td>\n",
              "      <td>0.169811</td>\n",
              "      <td>0.374429</td>\n",
              "      <td>1.000000</td>\n",
              "      <td>0.625954</td>\n",
              "      <td>0.301606</td>\n",
              "      <td>0.0</td>\n",
              "      <td>0.000000</td>\n",
              "      <td>0.0</td>\n",
              "    </tr>\n",
              "    <tr>\n",
              "      <th>99</th>\n",
              "      <td>0.437500</td>\n",
              "      <td>0.333333</td>\n",
              "      <td>0.245283</td>\n",
              "      <td>0.269406</td>\n",
              "      <td>0.984615</td>\n",
              "      <td>0.694656</td>\n",
              "      <td>0.163934</td>\n",
              "      <td>0.0</td>\n",
              "      <td>0.216667</td>\n",
              "      <td>0.0</td>\n",
              "    </tr>\n",
              "  </tbody>\n",
              "</table>\n",
              "</div>\n",
              "      <button class=\"colab-df-convert\" onclick=\"convertToInteractive('df-bbea75b3-36a9-49fe-b34c-f9b2daf05eda')\"\n",
              "              title=\"Convert this dataframe to an interactive table.\"\n",
              "              style=\"display:none;\">\n",
              "        \n",
              "  <svg xmlns=\"http://www.w3.org/2000/svg\" height=\"24px\"viewBox=\"0 0 24 24\"\n",
              "       width=\"24px\">\n",
              "    <path d=\"M0 0h24v24H0V0z\" fill=\"none\"/>\n",
              "    <path d=\"M18.56 5.44l.94 2.06.94-2.06 2.06-.94-2.06-.94-.94-2.06-.94 2.06-2.06.94zm-11 1L8.5 8.5l.94-2.06 2.06-.94-2.06-.94L8.5 2.5l-.94 2.06-2.06.94zm10 10l.94 2.06.94-2.06 2.06-.94-2.06-.94-.94-2.06-.94 2.06-2.06.94z\"/><path d=\"M17.41 7.96l-1.37-1.37c-.4-.4-.92-.59-1.43-.59-.52 0-1.04.2-1.43.59L10.3 9.45l-7.72 7.72c-.78.78-.78 2.05 0 2.83L4 21.41c.39.39.9.59 1.41.59.51 0 1.02-.2 1.41-.59l7.78-7.78 2.81-2.81c.8-.78.8-2.07 0-2.86zM5.41 20L4 18.59l7.72-7.72 1.47 1.35L5.41 20z\"/>\n",
              "  </svg>\n",
              "      </button>\n",
              "      \n",
              "  <style>\n",
              "    .colab-df-container {\n",
              "      display:flex;\n",
              "      flex-wrap:wrap;\n",
              "      gap: 12px;\n",
              "    }\n",
              "\n",
              "    .colab-df-convert {\n",
              "      background-color: #E8F0FE;\n",
              "      border: none;\n",
              "      border-radius: 50%;\n",
              "      cursor: pointer;\n",
              "      display: none;\n",
              "      fill: #1967D2;\n",
              "      height: 32px;\n",
              "      padding: 0 0 0 0;\n",
              "      width: 32px;\n",
              "    }\n",
              "\n",
              "    .colab-df-convert:hover {\n",
              "      background-color: #E2EBFA;\n",
              "      box-shadow: 0px 1px 2px rgba(60, 64, 67, 0.3), 0px 1px 3px 1px rgba(60, 64, 67, 0.15);\n",
              "      fill: #174EA6;\n",
              "    }\n",
              "\n",
              "    [theme=dark] .colab-df-convert {\n",
              "      background-color: #3B4455;\n",
              "      fill: #D2E3FC;\n",
              "    }\n",
              "\n",
              "    [theme=dark] .colab-df-convert:hover {\n",
              "      background-color: #434B5C;\n",
              "      box-shadow: 0px 1px 3px 1px rgba(0, 0, 0, 0.15);\n",
              "      filter: drop-shadow(0px 1px 2px rgba(0, 0, 0, 0.3));\n",
              "      fill: #FFFFFF;\n",
              "    }\n",
              "  </style>\n",
              "\n",
              "      <script>\n",
              "        const buttonEl =\n",
              "          document.querySelector('#df-bbea75b3-36a9-49fe-b34c-f9b2daf05eda button.colab-df-convert');\n",
              "        buttonEl.style.display =\n",
              "          google.colab.kernel.accessAllowed ? 'block' : 'none';\n",
              "\n",
              "        async function convertToInteractive(key) {\n",
              "          const element = document.querySelector('#df-bbea75b3-36a9-49fe-b34c-f9b2daf05eda');\n",
              "          const dataTable =\n",
              "            await google.colab.kernel.invokeFunction('convertToInteractive',\n",
              "                                                     [key], {});\n",
              "          if (!dataTable) return;\n",
              "\n",
              "          const docLinkHtml = 'Like what you see? Visit the ' +\n",
              "            '<a target=\"_blank\" href=https://colab.research.google.com/notebooks/data_table.ipynb>data table notebook</a>'\n",
              "            + ' to learn more about interactive tables.';\n",
              "          element.innerHTML = '';\n",
              "          dataTable['output_type'] = 'display_data';\n",
              "          await google.colab.output.renderOutput(dataTable, element);\n",
              "          const docLink = document.createElement('div');\n",
              "          docLink.innerHTML = docLinkHtml;\n",
              "          element.appendChild(docLink);\n",
              "        }\n",
              "      </script>\n",
              "    </div>\n",
              "  </div>\n",
              "  "
            ]
          },
          "metadata": {},
          "execution_count": 23
        }
      ]
    },
    {
      "cell_type": "markdown",
      "source": [
        "## 3) Menghitung jarak euclidean\n",
        "\n",
        "Tahapan awal dari algoritma KNN adalah perhitungan jarak. Salah satu metode perhitungan jarak yang bisa digunakan adalah jarak Euclidean. Buatlah fungsi bernama **jarakEu** yang berfungsi menghitung jarak euclidean dari dua buah vektor (tanpa kelas)"
      ],
      "metadata": {
        "id": "75Vza7EvoSHE"
      }
    },
    {
      "cell_type": "code",
      "source": [
        "def jarakEu(data1, data2):\n",
        "  jarak = np.square(data1 - data2)\n",
        "  jarak = np.sum(jarak)\n",
        "  return np.sqrt(jarak)"
      ],
      "metadata": {
        "id": "FUQNEAaZoUIT"
      },
      "execution_count": null,
      "outputs": []
    },
    {
      "cell_type": "markdown",
      "source": [
        "Uji fungsi **jarakEu** untuk menghitung jarak antara data latih pertama dengan data uji pertama."
      ],
      "metadata": {
        "id": "I_ImZhW5oV02"
      }
    },
    {
      "cell_type": "code",
      "source": [
        "jarak = jarakEu(data_latih.iloc[0], data_uji.iloc[0])\n",
        "print(jarak)"
      ],
      "metadata": {
        "colab": {
          "base_uri": "https://localhost:8080/"
        },
        "id": "5nnFreMpoXal",
        "outputId": "f9f46f68-3e50-43af-872e-d0c8f78493c1"
      },
      "execution_count": null,
      "outputs": [
        {
          "output_type": "stream",
          "name": "stdout",
          "text": [
            "1.1151968863512662\n"
          ]
        }
      ]
    },
    {
      "cell_type": "markdown",
      "source": [
        "## 4) Algoritma KNN\n",
        "\n",
        "Implementasikan algoritma KNN dengan tahapan-tahapan berikut :\n",
        "1. Hitung jarak antara data uji dengan setiap data latih.\n",
        "2. Cari *k* data latih dengan jarak terkecil.\n",
        "3. Tentukan kelas dari *k* data latih tersebut.\n",
        "4. Kelas data uji ditentukan dari mayoritas kelas *k* data latih.\n",
        "\n",
        "Buatlah fungsi dengan nama **knn** yang menerima input berupa *k*, sekumpulan data latih dan labelnya, serta sebuah data uji"
      ],
      "metadata": {
        "id": "r3-WeRwLoaou"
      }
    },
    {
      "cell_type": "code",
      "source": [
        "from collections import Counter\n",
        "def knn(k, datalatih, labellatih, datauji):\n",
        "  jarak = np.array([jarakEu(datalatih.iloc[x],datauji) for x in range(datalatih.shape[0])])\n",
        "  indeks_k_minimum = jarak.argsort()[:k]\n",
        "  k_kelas = labellatih.iloc[indeks_k_minimum].to_numpy()\n",
        "  counter = Counter(k_kelas)\n",
        "  kelas_uji = counter.most_common(1)[0][0]\n",
        "  return kelas_uji"
      ],
      "metadata": {
        "id": "qhSwIqceob8s"
      },
      "execution_count": null,
      "outputs": []
    },
    {
      "cell_type": "markdown",
      "source": [
        "Lakukan pengujian fungsi **knn** untuk menentukan kelas dari data uji pertama"
      ],
      "metadata": {
        "id": "ZewrVC0TodcK"
      }
    },
    {
      "cell_type": "code",
      "source": [
        "hasil = knn(3,data_latih,label_latih,data_uji.iloc[0])\n",
        "print(hasil)"
      ],
      "metadata": {
        "colab": {
          "base_uri": "https://localhost:8080/"
        },
        "id": "ms6C0GnKoe6P",
        "outputId": "d99553f9-4871-4d6f-9c84-3efb8815bc17"
      },
      "execution_count": null,
      "outputs": [
        {
          "output_type": "stream",
          "name": "stdout",
          "text": [
            "Absence\n"
          ]
        }
      ]
    },
    {
      "cell_type": "markdown",
      "source": [
        "## 5) KNN pada Scikit-learn\n",
        "\n",
        "Library scikit-learn memiliki algoritma KNN yang siap untuk digunakan. Sebagai pengenalan, Anda akan melakukan klasifikasi data yang sama menggunakan KNN yang tersedia pada library scikit-learn"
      ],
      "metadata": {
        "id": "3Z3CVQ_Boj2a"
      }
    },
    {
      "cell_type": "code",
      "source": [
        "from sklearn.neighbors import KNeighborsClassifier\n",
        "KNN = KNeighborsClassifier(n_neighbors = 3)\n",
        "KNN.fit(data_latih, label_latih)\n",
        "kelas = KNN.predict([data_uji.iloc[0]])\n",
        "print(kelas)"
      ],
      "metadata": {
        "colab": {
          "base_uri": "https://localhost:8080/"
        },
        "id": "mpCItsYrojj8",
        "outputId": "3edb0641-eaf1-4138-f570-d4e4be2ea3a8"
      },
      "execution_count": null,
      "outputs": [
        {
          "output_type": "stream",
          "name": "stdout",
          "text": [
            "['Absence']\n"
          ]
        },
        {
          "output_type": "stream",
          "name": "stderr",
          "text": [
            "/usr/local/lib/python3.10/dist-packages/sklearn/base.py:439: UserWarning: X does not have valid feature names, but KNeighborsClassifier was fitted with feature names\n",
            "  warnings.warn(\n"
          ]
        }
      ]
    },
    {
      "cell_type": "markdown",
      "source": [
        "# Evaluasi Klasifikasi"
      ],
      "metadata": {
        "id": "_FyPgzVkqZMO"
      }
    },
    {
      "cell_type": "markdown",
      "source": [
        "## 1) Tentukan metode klasifikasi yang akan dievaluasi"
      ],
      "metadata": {
        "id": "c49CWJ7Sqe5Y"
      }
    },
    {
      "cell_type": "code",
      "source": [
        "from sklearn.neighbors import KNeighborsClassifier\n",
        "from sklearn.naive_bayes import GaussianNB\n",
        "from sklearn.svm import SVC\n",
        "\n",
        "models = []\n",
        "models.append(('KNN', KNeighborsClassifier()))\n",
        "models.append(('NB', GaussianNB()))\n",
        "models.append(('SVM', SVC(gamma='auto')))"
      ],
      "metadata": {
        "id": "V4FXlszDqhmY"
      },
      "execution_count": null,
      "outputs": []
    },
    {
      "cell_type": "code",
      "source": [
        "# evaluate each model in turn\n",
        "results = []\n",
        "names = []"
      ],
      "metadata": {
        "id": "Y5qFaaG_qjFh"
      },
      "execution_count": null,
      "outputs": []
    },
    {
      "cell_type": "markdown",
      "source": [
        "## 2) Baca dataset\n"
      ],
      "metadata": {
        "id": "ZH_Bvc38qn7y"
      }
    },
    {
      "cell_type": "code",
      "source": [
        "data_imputasi"
      ],
      "metadata": {
        "colab": {
          "base_uri": "https://localhost:8080/",
          "height": 424
        },
        "id": "wioLYFnBqxNI",
        "outputId": "95fd8b06-e991-43c7-8568-551484f5f5e5"
      },
      "execution_count": null,
      "outputs": [
        {
          "output_type": "execute_result",
          "data": {
            "text/plain": [
              "          Age  Chest_pain_type        BP  Cholesterol  EKG_results    Max_HR  \\\n",
              "0    0.854167         1.000000  0.339623     0.447489     1.000000  0.290076   \n",
              "1    0.791667         0.666667  0.198113     1.000000     1.000000  0.679389   \n",
              "2    0.583333         0.333333  0.283019     0.308219     0.986486  0.534351   \n",
              "3    0.729167         1.000000  0.320755     0.312785     0.984615  0.259542   \n",
              "4    0.937500         0.333333  0.245283     0.326484     1.000000  0.381679   \n",
              "..        ...              ...       ...          ...          ...       ...   \n",
              "265  0.479167         0.666667  0.735849     0.166667     0.984615  0.694656   \n",
              "266  0.312500         0.333333  0.245283     0.312785     0.984615  0.778626   \n",
              "267  0.562500         0.333333  0.433962     0.383562     1.000000  0.625954   \n",
              "268  0.583333         1.000000  0.433962     0.150685     0.984615  0.587786   \n",
              "269  0.791667         1.000000  0.622642     0.365297     1.000000  0.282443   \n",
              "\n",
              "     ST_depression  Slope_of_ST  Number_of_vessels_fluro  Thallium  \\\n",
              "0         0.377049          0.5                 1.000000      0.00   \n",
              "1         0.245902          0.5                 0.216667      1.00   \n",
              "2         0.032787          0.0                 0.362500      1.00   \n",
              "3         0.016393          0.5                 0.000000      1.00   \n",
              "4         0.016393          0.0                 0.000000      0.00   \n",
              "..             ...          ...                      ...       ...   \n",
              "265       0.065574          0.0                 0.216667      1.00   \n",
              "266       0.159601          0.0                 0.216667      1.00   \n",
              "267       0.196721          0.5                 0.216667      0.00   \n",
              "268       0.049180          0.5                 0.216667      0.75   \n",
              "269       0.229508          0.5                 1.000000      0.00   \n",
              "\n",
              "    Heart_Disease  \n",
              "0        Presence  \n",
              "1         Absence  \n",
              "2        Presence  \n",
              "3         Absence  \n",
              "4         Absence  \n",
              "..            ...  \n",
              "265       Absence  \n",
              "266       Absence  \n",
              "267       Absence  \n",
              "268       Absence  \n",
              "269      Presence  \n",
              "\n",
              "[270 rows x 11 columns]"
            ],
            "text/html": [
              "\n",
              "  <div id=\"df-767e1077-8bd7-48b2-95aa-8dea785be5e4\">\n",
              "    <div class=\"colab-df-container\">\n",
              "      <div>\n",
              "<style scoped>\n",
              "    .dataframe tbody tr th:only-of-type {\n",
              "        vertical-align: middle;\n",
              "    }\n",
              "\n",
              "    .dataframe tbody tr th {\n",
              "        vertical-align: top;\n",
              "    }\n",
              "\n",
              "    .dataframe thead th {\n",
              "        text-align: right;\n",
              "    }\n",
              "</style>\n",
              "<table border=\"1\" class=\"dataframe\">\n",
              "  <thead>\n",
              "    <tr style=\"text-align: right;\">\n",
              "      <th></th>\n",
              "      <th>Age</th>\n",
              "      <th>Chest_pain_type</th>\n",
              "      <th>BP</th>\n",
              "      <th>Cholesterol</th>\n",
              "      <th>EKG_results</th>\n",
              "      <th>Max_HR</th>\n",
              "      <th>ST_depression</th>\n",
              "      <th>Slope_of_ST</th>\n",
              "      <th>Number_of_vessels_fluro</th>\n",
              "      <th>Thallium</th>\n",
              "      <th>Heart_Disease</th>\n",
              "    </tr>\n",
              "  </thead>\n",
              "  <tbody>\n",
              "    <tr>\n",
              "      <th>0</th>\n",
              "      <td>0.854167</td>\n",
              "      <td>1.000000</td>\n",
              "      <td>0.339623</td>\n",
              "      <td>0.447489</td>\n",
              "      <td>1.000000</td>\n",
              "      <td>0.290076</td>\n",
              "      <td>0.377049</td>\n",
              "      <td>0.5</td>\n",
              "      <td>1.000000</td>\n",
              "      <td>0.00</td>\n",
              "      <td>Presence</td>\n",
              "    </tr>\n",
              "    <tr>\n",
              "      <th>1</th>\n",
              "      <td>0.791667</td>\n",
              "      <td>0.666667</td>\n",
              "      <td>0.198113</td>\n",
              "      <td>1.000000</td>\n",
              "      <td>1.000000</td>\n",
              "      <td>0.679389</td>\n",
              "      <td>0.245902</td>\n",
              "      <td>0.5</td>\n",
              "      <td>0.216667</td>\n",
              "      <td>1.00</td>\n",
              "      <td>Absence</td>\n",
              "    </tr>\n",
              "    <tr>\n",
              "      <th>2</th>\n",
              "      <td>0.583333</td>\n",
              "      <td>0.333333</td>\n",
              "      <td>0.283019</td>\n",
              "      <td>0.308219</td>\n",
              "      <td>0.986486</td>\n",
              "      <td>0.534351</td>\n",
              "      <td>0.032787</td>\n",
              "      <td>0.0</td>\n",
              "      <td>0.362500</td>\n",
              "      <td>1.00</td>\n",
              "      <td>Presence</td>\n",
              "    </tr>\n",
              "    <tr>\n",
              "      <th>3</th>\n",
              "      <td>0.729167</td>\n",
              "      <td>1.000000</td>\n",
              "      <td>0.320755</td>\n",
              "      <td>0.312785</td>\n",
              "      <td>0.984615</td>\n",
              "      <td>0.259542</td>\n",
              "      <td>0.016393</td>\n",
              "      <td>0.5</td>\n",
              "      <td>0.000000</td>\n",
              "      <td>1.00</td>\n",
              "      <td>Absence</td>\n",
              "    </tr>\n",
              "    <tr>\n",
              "      <th>4</th>\n",
              "      <td>0.937500</td>\n",
              "      <td>0.333333</td>\n",
              "      <td>0.245283</td>\n",
              "      <td>0.326484</td>\n",
              "      <td>1.000000</td>\n",
              "      <td>0.381679</td>\n",
              "      <td>0.016393</td>\n",
              "      <td>0.0</td>\n",
              "      <td>0.000000</td>\n",
              "      <td>0.00</td>\n",
              "      <td>Absence</td>\n",
              "    </tr>\n",
              "    <tr>\n",
              "      <th>...</th>\n",
              "      <td>...</td>\n",
              "      <td>...</td>\n",
              "      <td>...</td>\n",
              "      <td>...</td>\n",
              "      <td>...</td>\n",
              "      <td>...</td>\n",
              "      <td>...</td>\n",
              "      <td>...</td>\n",
              "      <td>...</td>\n",
              "      <td>...</td>\n",
              "      <td>...</td>\n",
              "    </tr>\n",
              "    <tr>\n",
              "      <th>265</th>\n",
              "      <td>0.479167</td>\n",
              "      <td>0.666667</td>\n",
              "      <td>0.735849</td>\n",
              "      <td>0.166667</td>\n",
              "      <td>0.984615</td>\n",
              "      <td>0.694656</td>\n",
              "      <td>0.065574</td>\n",
              "      <td>0.0</td>\n",
              "      <td>0.216667</td>\n",
              "      <td>1.00</td>\n",
              "      <td>Absence</td>\n",
              "    </tr>\n",
              "    <tr>\n",
              "      <th>266</th>\n",
              "      <td>0.312500</td>\n",
              "      <td>0.333333</td>\n",
              "      <td>0.245283</td>\n",
              "      <td>0.312785</td>\n",
              "      <td>0.984615</td>\n",
              "      <td>0.778626</td>\n",
              "      <td>0.159601</td>\n",
              "      <td>0.0</td>\n",
              "      <td>0.216667</td>\n",
              "      <td>1.00</td>\n",
              "      <td>Absence</td>\n",
              "    </tr>\n",
              "    <tr>\n",
              "      <th>267</th>\n",
              "      <td>0.562500</td>\n",
              "      <td>0.333333</td>\n",
              "      <td>0.433962</td>\n",
              "      <td>0.383562</td>\n",
              "      <td>1.000000</td>\n",
              "      <td>0.625954</td>\n",
              "      <td>0.196721</td>\n",
              "      <td>0.5</td>\n",
              "      <td>0.216667</td>\n",
              "      <td>0.00</td>\n",
              "      <td>Absence</td>\n",
              "    </tr>\n",
              "    <tr>\n",
              "      <th>268</th>\n",
              "      <td>0.583333</td>\n",
              "      <td>1.000000</td>\n",
              "      <td>0.433962</td>\n",
              "      <td>0.150685</td>\n",
              "      <td>0.984615</td>\n",
              "      <td>0.587786</td>\n",
              "      <td>0.049180</td>\n",
              "      <td>0.5</td>\n",
              "      <td>0.216667</td>\n",
              "      <td>0.75</td>\n",
              "      <td>Absence</td>\n",
              "    </tr>\n",
              "    <tr>\n",
              "      <th>269</th>\n",
              "      <td>0.791667</td>\n",
              "      <td>1.000000</td>\n",
              "      <td>0.622642</td>\n",
              "      <td>0.365297</td>\n",
              "      <td>1.000000</td>\n",
              "      <td>0.282443</td>\n",
              "      <td>0.229508</td>\n",
              "      <td>0.5</td>\n",
              "      <td>1.000000</td>\n",
              "      <td>0.00</td>\n",
              "      <td>Presence</td>\n",
              "    </tr>\n",
              "  </tbody>\n",
              "</table>\n",
              "<p>270 rows × 11 columns</p>\n",
              "</div>\n",
              "      <button class=\"colab-df-convert\" onclick=\"convertToInteractive('df-767e1077-8bd7-48b2-95aa-8dea785be5e4')\"\n",
              "              title=\"Convert this dataframe to an interactive table.\"\n",
              "              style=\"display:none;\">\n",
              "        \n",
              "  <svg xmlns=\"http://www.w3.org/2000/svg\" height=\"24px\"viewBox=\"0 0 24 24\"\n",
              "       width=\"24px\">\n",
              "    <path d=\"M0 0h24v24H0V0z\" fill=\"none\"/>\n",
              "    <path d=\"M18.56 5.44l.94 2.06.94-2.06 2.06-.94-2.06-.94-.94-2.06-.94 2.06-2.06.94zm-11 1L8.5 8.5l.94-2.06 2.06-.94-2.06-.94L8.5 2.5l-.94 2.06-2.06.94zm10 10l.94 2.06.94-2.06 2.06-.94-2.06-.94-.94-2.06-.94 2.06-2.06.94z\"/><path d=\"M17.41 7.96l-1.37-1.37c-.4-.4-.92-.59-1.43-.59-.52 0-1.04.2-1.43.59L10.3 9.45l-7.72 7.72c-.78.78-.78 2.05 0 2.83L4 21.41c.39.39.9.59 1.41.59.51 0 1.02-.2 1.41-.59l7.78-7.78 2.81-2.81c.8-.78.8-2.07 0-2.86zM5.41 20L4 18.59l7.72-7.72 1.47 1.35L5.41 20z\"/>\n",
              "  </svg>\n",
              "      </button>\n",
              "      \n",
              "  <style>\n",
              "    .colab-df-container {\n",
              "      display:flex;\n",
              "      flex-wrap:wrap;\n",
              "      gap: 12px;\n",
              "    }\n",
              "\n",
              "    .colab-df-convert {\n",
              "      background-color: #E8F0FE;\n",
              "      border: none;\n",
              "      border-radius: 50%;\n",
              "      cursor: pointer;\n",
              "      display: none;\n",
              "      fill: #1967D2;\n",
              "      height: 32px;\n",
              "      padding: 0 0 0 0;\n",
              "      width: 32px;\n",
              "    }\n",
              "\n",
              "    .colab-df-convert:hover {\n",
              "      background-color: #E2EBFA;\n",
              "      box-shadow: 0px 1px 2px rgba(60, 64, 67, 0.3), 0px 1px 3px 1px rgba(60, 64, 67, 0.15);\n",
              "      fill: #174EA6;\n",
              "    }\n",
              "\n",
              "    [theme=dark] .colab-df-convert {\n",
              "      background-color: #3B4455;\n",
              "      fill: #D2E3FC;\n",
              "    }\n",
              "\n",
              "    [theme=dark] .colab-df-convert:hover {\n",
              "      background-color: #434B5C;\n",
              "      box-shadow: 0px 1px 3px 1px rgba(0, 0, 0, 0.15);\n",
              "      filter: drop-shadow(0px 1px 2px rgba(0, 0, 0, 0.3));\n",
              "      fill: #FFFFFF;\n",
              "    }\n",
              "  </style>\n",
              "\n",
              "      <script>\n",
              "        const buttonEl =\n",
              "          document.querySelector('#df-767e1077-8bd7-48b2-95aa-8dea785be5e4 button.colab-df-convert');\n",
              "        buttonEl.style.display =\n",
              "          google.colab.kernel.accessAllowed ? 'block' : 'none';\n",
              "\n",
              "        async function convertToInteractive(key) {\n",
              "          const element = document.querySelector('#df-767e1077-8bd7-48b2-95aa-8dea785be5e4');\n",
              "          const dataTable =\n",
              "            await google.colab.kernel.invokeFunction('convertToInteractive',\n",
              "                                                     [key], {});\n",
              "          if (!dataTable) return;\n",
              "\n",
              "          const docLinkHtml = 'Like what you see? Visit the ' +\n",
              "            '<a target=\"_blank\" href=https://colab.research.google.com/notebooks/data_table.ipynb>data table notebook</a>'\n",
              "            + ' to learn more about interactive tables.';\n",
              "          element.innerHTML = '';\n",
              "          dataTable['output_type'] = 'display_data';\n",
              "          await google.colab.output.renderOutput(dataTable, element);\n",
              "          const docLink = document.createElement('div');\n",
              "          docLink.innerHTML = docLinkHtml;\n",
              "          element.appendChild(docLink);\n",
              "        }\n",
              "      </script>\n",
              "    </div>\n",
              "  </div>\n",
              "  "
            ]
          },
          "metadata": {},
          "execution_count": 31
        }
      ]
    },
    {
      "cell_type": "markdown",
      "source": [
        "## 3) Membuat Set Data Validasi\n",
        "Tujuan evaluasi adalah memperkirakan keakuratan model terbaik pada data tak terlihat dengan mengevaluasinya pada data tak terlihat aktual. Evaluasi ini dilakukan dengan cara membagi dataset menjadi dua bagian yakni sebagian digunakan sebagai data latih dan sebagian yang lain digunakan sebagai data uji. Beberapa praktikum sebelumnya telah dipraktekkan dengan menggunakan metode train_test_split :\n",
        "X_train, X_validation, Y_train, Y_validation = train_test_split(X, y, test_size=0.20, random_state=1)\n"
      ],
      "metadata": {
        "id": "n2NF8LU9q-jr"
      }
    },
    {
      "cell_type": "markdown",
      "source": [
        "Sebelum membuat data latih dan data uji. Langkah pertama pisahkan antara data attribute dan data label suatu dataset. Karena dataset liver_patient terdiri dari 9 attribut dan 1 label.  Maka kita catat X sebagai data dan Y sebagai label."
      ],
      "metadata": {
        "id": "N7snmWeGrCGb"
      }
    },
    {
      "cell_type": "code",
      "source": [
        "from sklearn.model_selection import train_test_split\n",
        "array = data_imputasi.values\n",
        "X = array[:,0:10]\n",
        "y = array[:,10]\n",
        "X_train, X_validation, Y_train, Y_validation = train_test_split(X, y, test_size=0.20, random_state=1, shuffle=True)"
      ],
      "metadata": {
        "id": "vzqej-RArDM8"
      },
      "execution_count": null,
      "outputs": []
    },
    {
      "cell_type": "markdown",
      "source": [
        "## 4) K-Fold Cross Validation\n",
        "k-Fold Cross-Validation Validasi silang adalah prosedur pengambilan sampel ulang yang digunakan untuk mengevaluasi model pembelajaran mesin pada sampel data terbatas. Prosedur ini memiliki parameter tunggal yang disebut k yang mengacu pada jumlah grup yang akan dipecah menjadi sampel data tertentu. Karena itu, prosedur ini sering disebut k-fold cross-validation. Ketika nilai spesifik untuk k dipilih, nilai tersebut dapat digunakan sebagai pengganti k dalam referensi ke model, seperti k = 10 menjadi validasi silang 10 kali lipat.\n",
        "\n",
        "Validasi silang terutama digunakan dalam pembelajaran mesin terapan untuk memperkirakan kemampuan model pembelajaran mesin pada data yang tidak terlihat. Yaitu, menggunakan sampel terbatas untuk memperkirakan bagaimana performa model secara umum saat digunakan untuk membuat prediksi pada data yang tidak digunakan selama pelatihan model.\n",
        "\n",
        "Prosedur umumnya adalah sebagai berikut:\n",
        "- Acak kumpulan data berdasarkan id\n",
        "- Pisahkan kumpulan data menjadi kelompok k\n",
        "- Untuk setiap grup unik:\n",
        "  - Ambil kelompok sebagai kelompok data uji\n",
        "  - Ambil kelompok yang tersisa sebagai kumpulan data pelatihan\n",
        "  - Catat hasil pengujian masing-masing group\n",
        "\n",
        "K-Fold ini digunakan untuk validasi model yang digunakan. Evaluasi dilakukan pada dataset latih. Pada praktikum ini digunakan k=10, berarti akan membagi dataset latih menjadi 10 bagian. Satu bagian digunakan untuk testing dan sisanya sebagai data latih."
      ],
      "metadata": {
        "id": "5kRkphdnxBDd"
      }
    },
    {
      "cell_type": "code",
      "source": [
        "from sklearn.model_selection import cross_val_score\n",
        "from sklearn.model_selection import StratifiedKFold\n",
        "\n",
        "for name, model in models:\n",
        "  kfold = StratifiedKFold(n_splits=10, random_state=1, shuffle=True)\n",
        "  cv_results = cross_val_score(model, X_train, Y_train, cv=kfold, scoring='accuracy')\n",
        "  results.append(cv_results)\n",
        "  names.append(name)\n",
        "  print('%s: %f (%f)' % (name, cv_results.mean(), cv_results.std()))"
      ],
      "metadata": {
        "colab": {
          "base_uri": "https://localhost:8080/"
        },
        "id": "tTJDLfahxG6D",
        "outputId": "6dff0a69-ad7f-4fe9-85b3-e54b40215033"
      },
      "execution_count": null,
      "outputs": [
        {
          "output_type": "stream",
          "name": "stdout",
          "text": [
            "KNN: 0.810390 (0.077586)\n",
            "NB: 0.782468 (0.078104)\n",
            "SVM: 0.791775 (0.080593)\n"
          ]
        }
      ]
    },
    {
      "cell_type": "markdown",
      "source": [
        "## 5) Membuat Prediksi\n",
        "Kita dapat menyesuaikan model pada seluruh dataset pelatihan dan membuat prediksi pada dataset validasi."
      ],
      "metadata": {
        "id": "Y-J020g6xI4l"
      }
    },
    {
      "cell_type": "code",
      "source": [
        "# metode knn\n",
        "model = KNeighborsClassifier()\n",
        "model.fit(X_train, Y_train)\n",
        "predictions = model.predict(X_validation)"
      ],
      "metadata": {
        "id": "in3X7SV7xPRQ"
      },
      "execution_count": null,
      "outputs": []
    },
    {
      "cell_type": "markdown",
      "source": [
        "## 6) Evaluasi Prediksi\n",
        "Kami dapat mengevaluasi prediksi dengan membandingkannya dengan hasil yang diharapkan dalam set validasi, lalu menghitung akurasi klasifikasi, serta matriks kebingungan dan laporan klasifikasi."
      ],
      "metadata": {
        "id": "98h9Pv04xWT3"
      }
    },
    {
      "cell_type": "code",
      "source": [
        "from sklearn.datasets import make_classification\n",
        "X, y = make_classification(n_samples=1000, n_features=20, n_informative=15, n_redundant=5, random_state=1)"
      ],
      "metadata": {
        "id": "g14zR1gPxZeo"
      },
      "execution_count": null,
      "outputs": []
    },
    {
      "cell_type": "code",
      "source": [
        "from sklearn.metrics import classification_report\n",
        "print(classification_report(Y_validation, predictions))\n",
        "\n",
        "print(Y_validation)\n",
        "print()\n",
        "print(predictions)"
      ],
      "metadata": {
        "colab": {
          "base_uri": "https://localhost:8080/"
        },
        "id": "RDZaC1IrxZzl",
        "outputId": "a9b6dccb-116b-4db3-b285-16251e4cced6"
      },
      "execution_count": null,
      "outputs": [
        {
          "output_type": "stream",
          "name": "stdout",
          "text": [
            "              precision    recall  f1-score   support\n",
            "\n",
            "     Absence       0.78      0.81      0.79        31\n",
            "    Presence       0.73      0.70      0.71        23\n",
            "\n",
            "    accuracy                           0.76        54\n",
            "   macro avg       0.75      0.75      0.75        54\n",
            "weighted avg       0.76      0.76      0.76        54\n",
            "\n",
            "['Absence' 'Presence' 'Absence' 'Presence' 'Presence' 'Presence' 'Absence'\n",
            " 'Presence' 'Absence' 'Presence' 'Presence' 'Presence' 'Presence'\n",
            " 'Absence' 'Absence' 'Presence' 'Absence' 'Presence' 'Presence' 'Absence'\n",
            " 'Presence' 'Absence' 'Absence' 'Absence' 'Absence' 'Presence' 'Absence'\n",
            " 'Absence' 'Absence' 'Absence' 'Presence' 'Absence' 'Absence' 'Presence'\n",
            " 'Absence' 'Absence' 'Absence' 'Absence' 'Absence' 'Presence' 'Absence'\n",
            " 'Absence' 'Presence' 'Absence' 'Absence' 'Absence' 'Absence' 'Presence'\n",
            " 'Presence' 'Presence' 'Absence' 'Presence' 'Absence' 'Presence']\n",
            "\n",
            "['Absence' 'Presence' 'Absence' 'Presence' 'Presence' 'Absence' 'Presence'\n",
            " 'Absence' 'Absence' 'Presence' 'Presence' 'Presence' 'Presence' 'Absence'\n",
            " 'Presence' 'Presence' 'Absence' 'Absence' 'Presence' 'Absence' 'Presence'\n",
            " 'Absence' 'Absence' 'Absence' 'Presence' 'Presence' 'Absence' 'Absence'\n",
            " 'Absence' 'Absence' 'Absence' 'Absence' 'Absence' 'Presence' 'Presence'\n",
            " 'Presence' 'Absence' 'Absence' 'Absence' 'Absence' 'Absence' 'Absence'\n",
            " 'Absence' 'Absence' 'Absence' 'Presence' 'Absence' 'Presence' 'Absence'\n",
            " 'Presence' 'Absence' 'Presence' 'Absence' 'Presence']\n"
          ]
        }
      ]
    }
  ]
}